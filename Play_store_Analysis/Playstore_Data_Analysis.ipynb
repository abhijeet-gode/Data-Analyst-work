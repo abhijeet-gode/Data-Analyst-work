{
 "cells": [
  {
   "cell_type": "code",
   "execution_count": 1,
   "id": "3060ae20",
   "metadata": {},
   "outputs": [
    {
     "data": {
      "text/html": [
       "<svg  width=\"550\" height=\"55\"><rect x=\"0\" y=\"0\" width=\"55\" height=\"55\" style=\"fill:#1f77b4;stroke-width:2;stroke:rgb(255,255,255)\"/><rect x=\"55\" y=\"0\" width=\"55\" height=\"55\" style=\"fill:#ff7f0e;stroke-width:2;stroke:rgb(255,255,255)\"/><rect x=\"110\" y=\"0\" width=\"55\" height=\"55\" style=\"fill:#2ca02c;stroke-width:2;stroke:rgb(255,255,255)\"/><rect x=\"165\" y=\"0\" width=\"55\" height=\"55\" style=\"fill:#d62728;stroke-width:2;stroke:rgb(255,255,255)\"/><rect x=\"220\" y=\"0\" width=\"55\" height=\"55\" style=\"fill:#9467bd;stroke-width:2;stroke:rgb(255,255,255)\"/><rect x=\"275\" y=\"0\" width=\"55\" height=\"55\" style=\"fill:#8c564b;stroke-width:2;stroke:rgb(255,255,255)\"/><rect x=\"330\" y=\"0\" width=\"55\" height=\"55\" style=\"fill:#e377c2;stroke-width:2;stroke:rgb(255,255,255)\"/><rect x=\"385\" y=\"0\" width=\"55\" height=\"55\" style=\"fill:#7f7f7f;stroke-width:2;stroke:rgb(255,255,255)\"/><rect x=\"440\" y=\"0\" width=\"55\" height=\"55\" style=\"fill:#bcbd22;stroke-width:2;stroke:rgb(255,255,255)\"/><rect x=\"495\" y=\"0\" width=\"55\" height=\"55\" style=\"fill:#17becf;stroke-width:2;stroke:rgb(255,255,255)\"/></svg>"
      ],
      "text/plain": [
       "[(0.12156862745098039, 0.4666666666666667, 0.7058823529411765),\n",
       " (1.0, 0.4980392156862745, 0.054901960784313725),\n",
       " (0.17254901960784313, 0.6274509803921569, 0.17254901960784313),\n",
       " (0.8392156862745098, 0.15294117647058825, 0.1568627450980392),\n",
       " (0.5803921568627451, 0.403921568627451, 0.7411764705882353),\n",
       " (0.5490196078431373, 0.33725490196078434, 0.29411764705882354),\n",
       " (0.8901960784313725, 0.4666666666666667, 0.7607843137254902),\n",
       " (0.4980392156862745, 0.4980392156862745, 0.4980392156862745),\n",
       " (0.7372549019607844, 0.7411764705882353, 0.13333333333333333),\n",
       " (0.09019607843137255, 0.7450980392156863, 0.8117647058823529)]"
      ]
     },
     "execution_count": 1,
     "metadata": {},
     "output_type": "execute_result"
    }
   ],
   "source": [
    "import numpy as np\n",
    "import pandas as pd\n",
    "import os\n",
    "from matplotlib import pyplot as plt\n",
    "%matplotlib inline\n",
    "import seaborn as sns\n",
    "sns.color_palette()"
   ]
  },
  {
   "cell_type": "code",
   "execution_count": 2,
   "id": "6793176d",
   "metadata": {},
   "outputs": [
    {
     "data": {
      "text/html": [
       "<div>\n",
       "<style scoped>\n",
       "    .dataframe tbody tr th:only-of-type {\n",
       "        vertical-align: middle;\n",
       "    }\n",
       "\n",
       "    .dataframe tbody tr th {\n",
       "        vertical-align: top;\n",
       "    }\n",
       "\n",
       "    .dataframe thead th {\n",
       "        text-align: right;\n",
       "    }\n",
       "</style>\n",
       "<table border=\"1\" class=\"dataframe\">\n",
       "  <thead>\n",
       "    <tr style=\"text-align: right;\">\n",
       "      <th></th>\n",
       "      <th>App</th>\n",
       "      <th>Category</th>\n",
       "      <th>Rating</th>\n",
       "      <th>Reviews</th>\n",
       "      <th>Size</th>\n",
       "      <th>Installs</th>\n",
       "      <th>Type</th>\n",
       "      <th>Price</th>\n",
       "      <th>Content Rating</th>\n",
       "      <th>Genres</th>\n",
       "      <th>Last Updated</th>\n",
       "      <th>Current Ver</th>\n",
       "      <th>Android Ver</th>\n",
       "    </tr>\n",
       "  </thead>\n",
       "  <tbody>\n",
       "    <tr>\n",
       "      <th>0</th>\n",
       "      <td>Photo Editor &amp; Candy Camera &amp; Grid &amp; ScrapBook</td>\n",
       "      <td>ART_AND_DESIGN</td>\n",
       "      <td>4.1</td>\n",
       "      <td>159</td>\n",
       "      <td>19000.0</td>\n",
       "      <td>10,000+</td>\n",
       "      <td>Free</td>\n",
       "      <td>0</td>\n",
       "      <td>Everyone</td>\n",
       "      <td>Art &amp; Design</td>\n",
       "      <td>January 7, 2018</td>\n",
       "      <td>1.0.0</td>\n",
       "      <td>4.0.3 and up</td>\n",
       "    </tr>\n",
       "    <tr>\n",
       "      <th>1</th>\n",
       "      <td>Coloring book moana</td>\n",
       "      <td>ART_AND_DESIGN</td>\n",
       "      <td>3.9</td>\n",
       "      <td>967</td>\n",
       "      <td>14000.0</td>\n",
       "      <td>500,000+</td>\n",
       "      <td>Free</td>\n",
       "      <td>0</td>\n",
       "      <td>Everyone</td>\n",
       "      <td>Art &amp; Design;Pretend Play</td>\n",
       "      <td>January 15, 2018</td>\n",
       "      <td>2.0.0</td>\n",
       "      <td>4.0.3 and up</td>\n",
       "    </tr>\n",
       "    <tr>\n",
       "      <th>2</th>\n",
       "      <td>U Launcher Lite – FREE Live Cool Themes, Hide ...</td>\n",
       "      <td>ART_AND_DESIGN</td>\n",
       "      <td>4.7</td>\n",
       "      <td>87510</td>\n",
       "      <td>8700.0</td>\n",
       "      <td>5,000,000+</td>\n",
       "      <td>Free</td>\n",
       "      <td>0</td>\n",
       "      <td>Everyone</td>\n",
       "      <td>Art &amp; Design</td>\n",
       "      <td>August 1, 2018</td>\n",
       "      <td>1.2.4</td>\n",
       "      <td>4.0.3 and up</td>\n",
       "    </tr>\n",
       "    <tr>\n",
       "      <th>3</th>\n",
       "      <td>Sketch - Draw &amp; Paint</td>\n",
       "      <td>ART_AND_DESIGN</td>\n",
       "      <td>4.5</td>\n",
       "      <td>215644</td>\n",
       "      <td>25000.0</td>\n",
       "      <td>50,000,000+</td>\n",
       "      <td>Free</td>\n",
       "      <td>0</td>\n",
       "      <td>Teen</td>\n",
       "      <td>Art &amp; Design</td>\n",
       "      <td>June 8, 2018</td>\n",
       "      <td>Varies with device</td>\n",
       "      <td>4.2 and up</td>\n",
       "    </tr>\n",
       "    <tr>\n",
       "      <th>4</th>\n",
       "      <td>Pixel Draw - Number Art Coloring Book</td>\n",
       "      <td>ART_AND_DESIGN</td>\n",
       "      <td>4.3</td>\n",
       "      <td>967</td>\n",
       "      <td>2800.0</td>\n",
       "      <td>100,000+</td>\n",
       "      <td>Free</td>\n",
       "      <td>0</td>\n",
       "      <td>Everyone</td>\n",
       "      <td>Art &amp; Design;Creativity</td>\n",
       "      <td>June 20, 2018</td>\n",
       "      <td>1.1</td>\n",
       "      <td>4.4 and up</td>\n",
       "    </tr>\n",
       "  </tbody>\n",
       "</table>\n",
       "</div>"
      ],
      "text/plain": [
       "                                                 App        Category  Rating  \\\n",
       "0     Photo Editor & Candy Camera & Grid & ScrapBook  ART_AND_DESIGN     4.1   \n",
       "1                                Coloring book moana  ART_AND_DESIGN     3.9   \n",
       "2  U Launcher Lite – FREE Live Cool Themes, Hide ...  ART_AND_DESIGN     4.7   \n",
       "3                              Sketch - Draw & Paint  ART_AND_DESIGN     4.5   \n",
       "4              Pixel Draw - Number Art Coloring Book  ART_AND_DESIGN     4.3   \n",
       "\n",
       "  Reviews     Size     Installs  Type Price Content Rating  \\\n",
       "0     159  19000.0      10,000+  Free     0       Everyone   \n",
       "1     967  14000.0     500,000+  Free     0       Everyone   \n",
       "2   87510   8700.0   5,000,000+  Free     0       Everyone   \n",
       "3  215644  25000.0  50,000,000+  Free     0           Teen   \n",
       "4     967   2800.0     100,000+  Free     0       Everyone   \n",
       "\n",
       "                      Genres      Last Updated         Current Ver  \\\n",
       "0               Art & Design   January 7, 2018               1.0.0   \n",
       "1  Art & Design;Pretend Play  January 15, 2018               2.0.0   \n",
       "2               Art & Design    August 1, 2018               1.2.4   \n",
       "3               Art & Design      June 8, 2018  Varies with device   \n",
       "4    Art & Design;Creativity     June 20, 2018                 1.1   \n",
       "\n",
       "    Android Ver  \n",
       "0  4.0.3 and up  \n",
       "1  4.0.3 and up  \n",
       "2  4.0.3 and up  \n",
       "3    4.2 and up  \n",
       "4    4.4 and up  "
      ]
     },
     "execution_count": 2,
     "metadata": {},
     "output_type": "execute_result"
    }
   ],
   "source": [
    "data=pd.read_csv('playstore-analysis.csv')\n",
    "data.head()"
   ]
  },
  {
   "cell_type": "code",
   "execution_count": 3,
   "id": "1a16aa4e",
   "metadata": {},
   "outputs": [
    {
     "name": "stdout",
     "output_type": "stream",
     "text": [
      "<class 'pandas.core.frame.DataFrame'>\n",
      "RangeIndex: 10841 entries, 0 to 10840\n",
      "Data columns (total 13 columns):\n",
      " #   Column          Non-Null Count  Dtype  \n",
      "---  ------          --------------  -----  \n",
      " 0   App             10841 non-null  object \n",
      " 1   Category        10841 non-null  object \n",
      " 2   Rating          9367 non-null   float64\n",
      " 3   Reviews         10841 non-null  object \n",
      " 4   Size            10841 non-null  float64\n",
      " 5   Installs        10841 non-null  object \n",
      " 6   Type            10840 non-null  object \n",
      " 7   Price           10841 non-null  object \n",
      " 8   Content Rating  10840 non-null  object \n",
      " 9   Genres          10841 non-null  object \n",
      " 10  Last Updated    10841 non-null  object \n",
      " 11  Current Ver     10833 non-null  object \n",
      " 12  Android Ver     10838 non-null  object \n",
      "dtypes: float64(2), object(11)\n",
      "memory usage: 1.1+ MB\n"
     ]
    }
   ],
   "source": [
    "data.info()"
   ]
  },
  {
   "cell_type": "code",
   "execution_count": 4,
   "id": "cb17686e",
   "metadata": {},
   "outputs": [
    {
     "data": {
      "text/html": [
       "<div>\n",
       "<style scoped>\n",
       "    .dataframe tbody tr th:only-of-type {\n",
       "        vertical-align: middle;\n",
       "    }\n",
       "\n",
       "    .dataframe tbody tr th {\n",
       "        vertical-align: top;\n",
       "    }\n",
       "\n",
       "    .dataframe thead th {\n",
       "        text-align: right;\n",
       "    }\n",
       "</style>\n",
       "<table border=\"1\" class=\"dataframe\">\n",
       "  <thead>\n",
       "    <tr style=\"text-align: right;\">\n",
       "      <th></th>\n",
       "      <th>Rating</th>\n",
       "      <th>Size</th>\n",
       "    </tr>\n",
       "  </thead>\n",
       "  <tbody>\n",
       "    <tr>\n",
       "      <th>count</th>\n",
       "      <td>9367.000000</td>\n",
       "      <td>10841.000000</td>\n",
       "    </tr>\n",
       "    <tr>\n",
       "      <th>mean</th>\n",
       "      <td>4.193338</td>\n",
       "      <td>21516.529524</td>\n",
       "    </tr>\n",
       "    <tr>\n",
       "      <th>std</th>\n",
       "      <td>0.537431</td>\n",
       "      <td>20746.537567</td>\n",
       "    </tr>\n",
       "    <tr>\n",
       "      <th>min</th>\n",
       "      <td>1.000000</td>\n",
       "      <td>8.500000</td>\n",
       "    </tr>\n",
       "    <tr>\n",
       "      <th>25%</th>\n",
       "      <td>4.000000</td>\n",
       "      <td>5900.000000</td>\n",
       "    </tr>\n",
       "    <tr>\n",
       "      <th>50%</th>\n",
       "      <td>4.300000</td>\n",
       "      <td>18000.000000</td>\n",
       "    </tr>\n",
       "    <tr>\n",
       "      <th>75%</th>\n",
       "      <td>4.500000</td>\n",
       "      <td>26000.000000</td>\n",
       "    </tr>\n",
       "    <tr>\n",
       "      <th>max</th>\n",
       "      <td>19.000000</td>\n",
       "      <td>100000.000000</td>\n",
       "    </tr>\n",
       "  </tbody>\n",
       "</table>\n",
       "</div>"
      ],
      "text/plain": [
       "            Rating           Size\n",
       "count  9367.000000   10841.000000\n",
       "mean      4.193338   21516.529524\n",
       "std       0.537431   20746.537567\n",
       "min       1.000000       8.500000\n",
       "25%       4.000000    5900.000000\n",
       "50%       4.300000   18000.000000\n",
       "75%       4.500000   26000.000000\n",
       "max      19.000000  100000.000000"
      ]
     },
     "execution_count": 4,
     "metadata": {},
     "output_type": "execute_result"
    }
   ],
   "source": [
    "data.describe()"
   ]
  },
  {
   "cell_type": "markdown",
   "id": "ed185efd",
   "metadata": {},
   "source": [
    "# 1. Data clean up - Missing Value Treatement\n",
    "a) Drop records where rating is missing since rating is our target/study variable"
   ]
  },
  {
   "cell_type": "code",
   "execution_count": 5,
   "id": "07b92202",
   "metadata": {},
   "outputs": [
    {
     "data": {
      "text/plain": [
       "App                  0\n",
       "Category             0\n",
       "Rating            1474\n",
       "Reviews              0\n",
       "Size                 0\n",
       "Installs             0\n",
       "Type                 1\n",
       "Price                0\n",
       "Content Rating       1\n",
       "Genres               0\n",
       "Last Updated         0\n",
       "Current Ver          8\n",
       "Android Ver          3\n",
       "dtype: int64"
      ]
     },
     "execution_count": 5,
     "metadata": {},
     "output_type": "execute_result"
    }
   ],
   "source": [
    "data.isnull().sum()"
   ]
  },
  {
   "cell_type": "markdown",
   "id": "495efb2f",
   "metadata": {},
   "source": [
    "# .\n",
    "Here we can clearly see that in column rating 1474 values are missing. Also missing values in\n",
    "various column as below: Type 1 Content Rating 1 Current Ver 8 Android Ver 3 So as per requirement\n",
    "    we drop missing values in Rating column"
   ]
  },
  {
   "cell_type": "code",
   "execution_count": 6,
   "id": "919f1bfd",
   "metadata": {},
   "outputs": [
    {
     "data": {
      "text/html": [
       "<div>\n",
       "<style scoped>\n",
       "    .dataframe tbody tr th:only-of-type {\n",
       "        vertical-align: middle;\n",
       "    }\n",
       "\n",
       "    .dataframe tbody tr th {\n",
       "        vertical-align: top;\n",
       "    }\n",
       "\n",
       "    .dataframe thead th {\n",
       "        text-align: right;\n",
       "    }\n",
       "</style>\n",
       "<table border=\"1\" class=\"dataframe\">\n",
       "  <thead>\n",
       "    <tr style=\"text-align: right;\">\n",
       "      <th></th>\n",
       "      <th>App</th>\n",
       "      <th>Category</th>\n",
       "      <th>Rating</th>\n",
       "      <th>Reviews</th>\n",
       "      <th>Size</th>\n",
       "      <th>Installs</th>\n",
       "      <th>Type</th>\n",
       "      <th>Price</th>\n",
       "      <th>Content Rating</th>\n",
       "      <th>Genres</th>\n",
       "      <th>Last Updated</th>\n",
       "      <th>Current Ver</th>\n",
       "      <th>Android Ver</th>\n",
       "    </tr>\n",
       "  </thead>\n",
       "  <tbody>\n",
       "    <tr>\n",
       "      <th>0</th>\n",
       "      <td>Photo Editor &amp; Candy Camera &amp; Grid &amp; ScrapBook</td>\n",
       "      <td>ART_AND_DESIGN</td>\n",
       "      <td>4.1</td>\n",
       "      <td>159</td>\n",
       "      <td>19000.0</td>\n",
       "      <td>10,000+</td>\n",
       "      <td>Free</td>\n",
       "      <td>0</td>\n",
       "      <td>Everyone</td>\n",
       "      <td>Art &amp; Design</td>\n",
       "      <td>January 7, 2018</td>\n",
       "      <td>1.0.0</td>\n",
       "      <td>4.0.3 and up</td>\n",
       "    </tr>\n",
       "    <tr>\n",
       "      <th>1</th>\n",
       "      <td>Coloring book moana</td>\n",
       "      <td>ART_AND_DESIGN</td>\n",
       "      <td>3.9</td>\n",
       "      <td>967</td>\n",
       "      <td>14000.0</td>\n",
       "      <td>500,000+</td>\n",
       "      <td>Free</td>\n",
       "      <td>0</td>\n",
       "      <td>Everyone</td>\n",
       "      <td>Art &amp; Design;Pretend Play</td>\n",
       "      <td>January 15, 2018</td>\n",
       "      <td>2.0.0</td>\n",
       "      <td>4.0.3 and up</td>\n",
       "    </tr>\n",
       "    <tr>\n",
       "      <th>2</th>\n",
       "      <td>U Launcher Lite – FREE Live Cool Themes, Hide ...</td>\n",
       "      <td>ART_AND_DESIGN</td>\n",
       "      <td>4.7</td>\n",
       "      <td>87510</td>\n",
       "      <td>8700.0</td>\n",
       "      <td>5,000,000+</td>\n",
       "      <td>Free</td>\n",
       "      <td>0</td>\n",
       "      <td>Everyone</td>\n",
       "      <td>Art &amp; Design</td>\n",
       "      <td>August 1, 2018</td>\n",
       "      <td>1.2.4</td>\n",
       "      <td>4.0.3 and up</td>\n",
       "    </tr>\n",
       "    <tr>\n",
       "      <th>3</th>\n",
       "      <td>Sketch - Draw &amp; Paint</td>\n",
       "      <td>ART_AND_DESIGN</td>\n",
       "      <td>4.5</td>\n",
       "      <td>215644</td>\n",
       "      <td>25000.0</td>\n",
       "      <td>50,000,000+</td>\n",
       "      <td>Free</td>\n",
       "      <td>0</td>\n",
       "      <td>Teen</td>\n",
       "      <td>Art &amp; Design</td>\n",
       "      <td>June 8, 2018</td>\n",
       "      <td>Varies with device</td>\n",
       "      <td>4.2 and up</td>\n",
       "    </tr>\n",
       "    <tr>\n",
       "      <th>4</th>\n",
       "      <td>Pixel Draw - Number Art Coloring Book</td>\n",
       "      <td>ART_AND_DESIGN</td>\n",
       "      <td>4.3</td>\n",
       "      <td>967</td>\n",
       "      <td>2800.0</td>\n",
       "      <td>100,000+</td>\n",
       "      <td>Free</td>\n",
       "      <td>0</td>\n",
       "      <td>Everyone</td>\n",
       "      <td>Art &amp; Design;Creativity</td>\n",
       "      <td>June 20, 2018</td>\n",
       "      <td>1.1</td>\n",
       "      <td>4.4 and up</td>\n",
       "    </tr>\n",
       "  </tbody>\n",
       "</table>\n",
       "</div>"
      ],
      "text/plain": [
       "                                                 App        Category  Rating  \\\n",
       "0     Photo Editor & Candy Camera & Grid & ScrapBook  ART_AND_DESIGN     4.1   \n",
       "1                                Coloring book moana  ART_AND_DESIGN     3.9   \n",
       "2  U Launcher Lite – FREE Live Cool Themes, Hide ...  ART_AND_DESIGN     4.7   \n",
       "3                              Sketch - Draw & Paint  ART_AND_DESIGN     4.5   \n",
       "4              Pixel Draw - Number Art Coloring Book  ART_AND_DESIGN     4.3   \n",
       "\n",
       "  Reviews     Size     Installs  Type Price Content Rating  \\\n",
       "0     159  19000.0      10,000+  Free     0       Everyone   \n",
       "1     967  14000.0     500,000+  Free     0       Everyone   \n",
       "2   87510   8700.0   5,000,000+  Free     0       Everyone   \n",
       "3  215644  25000.0  50,000,000+  Free     0           Teen   \n",
       "4     967   2800.0     100,000+  Free     0       Everyone   \n",
       "\n",
       "                      Genres      Last Updated         Current Ver  \\\n",
       "0               Art & Design   January 7, 2018               1.0.0   \n",
       "1  Art & Design;Pretend Play  January 15, 2018               2.0.0   \n",
       "2               Art & Design    August 1, 2018               1.2.4   \n",
       "3               Art & Design      June 8, 2018  Varies with device   \n",
       "4    Art & Design;Creativity     June 20, 2018                 1.1   \n",
       "\n",
       "    Android Ver  \n",
       "0  4.0.3 and up  \n",
       "1  4.0.3 and up  \n",
       "2  4.0.3 and up  \n",
       "3    4.2 and up  \n",
       "4    4.4 and up  "
      ]
     },
     "execution_count": 6,
     "metadata": {},
     "output_type": "execute_result"
    }
   ],
   "source": [
    "data1=data.dropna(subset=['Rating'])\n",
    "data1.head()"
   ]
  },
  {
   "cell_type": "code",
   "execution_count": 7,
   "id": "513cd567",
   "metadata": {},
   "outputs": [
    {
     "name": "stdout",
     "output_type": "stream",
     "text": [
      "<class 'pandas.core.frame.DataFrame'>\n",
      "Int64Index: 9367 entries, 0 to 10840\n",
      "Data columns (total 13 columns):\n",
      " #   Column          Non-Null Count  Dtype  \n",
      "---  ------          --------------  -----  \n",
      " 0   App             9367 non-null   object \n",
      " 1   Category        9367 non-null   object \n",
      " 2   Rating          9367 non-null   float64\n",
      " 3   Reviews         9367 non-null   object \n",
      " 4   Size            9367 non-null   float64\n",
      " 5   Installs        9367 non-null   object \n",
      " 6   Type            9367 non-null   object \n",
      " 7   Price           9367 non-null   object \n",
      " 8   Content Rating  9366 non-null   object \n",
      " 9   Genres          9367 non-null   object \n",
      " 10  Last Updated    9367 non-null   object \n",
      " 11  Current Ver     9363 non-null   object \n",
      " 12  Android Ver     9364 non-null   object \n",
      "dtypes: float64(2), object(11)\n",
      "memory usage: 1.0+ MB\n"
     ]
    }
   ],
   "source": [
    "data1.info()"
   ]
  },
  {
   "cell_type": "code",
   "execution_count": 8,
   "id": "66c485ff",
   "metadata": {},
   "outputs": [
    {
     "data": {
      "text/plain": [
       "App               0\n",
       "Category          0\n",
       "Rating            0\n",
       "Reviews           0\n",
       "Size              0\n",
       "Installs          0\n",
       "Type              0\n",
       "Price             0\n",
       "Content Rating    1\n",
       "Genres            0\n",
       "Last Updated      0\n",
       "Current Ver       4\n",
       "Android Ver       3\n",
       "dtype: int64"
      ]
     },
     "execution_count": 8,
     "metadata": {},
     "output_type": "execute_result"
    }
   ],
   "source": [
    "data1.isnull().sum()"
   ]
  },
  {
   "cell_type": "markdown",
   "id": "0f250820",
   "metadata": {},
   "source": [
    "# .\n",
    "Check the null values for the Android Ver column."
   ]
  },
  {
   "cell_type": "code",
   "execution_count": 9,
   "id": "79daf335",
   "metadata": {},
   "outputs": [
    {
     "data": {
      "text/plain": [
       "3"
      ]
     },
     "execution_count": 9,
     "metadata": {},
     "output_type": "execute_result"
    }
   ],
   "source": [
    "data1.isnull().sum()['Android Ver']"
   ]
  },
  {
   "cell_type": "code",
   "execution_count": 10,
   "id": "68b0e13d",
   "metadata": {},
   "outputs": [
    {
     "data": {
      "text/html": [
       "<div>\n",
       "<style scoped>\n",
       "    .dataframe tbody tr th:only-of-type {\n",
       "        vertical-align: middle;\n",
       "    }\n",
       "\n",
       "    .dataframe tbody tr th {\n",
       "        vertical-align: top;\n",
       "    }\n",
       "\n",
       "    .dataframe thead th {\n",
       "        text-align: right;\n",
       "    }\n",
       "</style>\n",
       "<table border=\"1\" class=\"dataframe\">\n",
       "  <thead>\n",
       "    <tr style=\"text-align: right;\">\n",
       "      <th></th>\n",
       "      <th>App</th>\n",
       "      <th>Category</th>\n",
       "      <th>Rating</th>\n",
       "      <th>Reviews</th>\n",
       "      <th>Size</th>\n",
       "      <th>Installs</th>\n",
       "      <th>Type</th>\n",
       "      <th>Price</th>\n",
       "      <th>Content Rating</th>\n",
       "      <th>Genres</th>\n",
       "      <th>Last Updated</th>\n",
       "      <th>Current Ver</th>\n",
       "      <th>Android Ver</th>\n",
       "    </tr>\n",
       "  </thead>\n",
       "  <tbody>\n",
       "    <tr>\n",
       "      <th>15</th>\n",
       "      <td>Learn To Draw Kawaii Characters</td>\n",
       "      <td>ART_AND_DESIGN</td>\n",
       "      <td>3.2</td>\n",
       "      <td>55</td>\n",
       "      <td>2700.000000</td>\n",
       "      <td>5,000+</td>\n",
       "      <td>Free</td>\n",
       "      <td>0</td>\n",
       "      <td>Everyone</td>\n",
       "      <td>Art &amp; Design</td>\n",
       "      <td>June 6, 2018</td>\n",
       "      <td>NaN</td>\n",
       "      <td>4.2 and up</td>\n",
       "    </tr>\n",
       "    <tr>\n",
       "      <th>1553</th>\n",
       "      <td>Market Update Helper</td>\n",
       "      <td>LIBRARIES_AND_DEMO</td>\n",
       "      <td>4.1</td>\n",
       "      <td>20145</td>\n",
       "      <td>11.000000</td>\n",
       "      <td>1,000,000+</td>\n",
       "      <td>Free</td>\n",
       "      <td>0</td>\n",
       "      <td>Everyone</td>\n",
       "      <td>Libraries &amp; Demo</td>\n",
       "      <td>February 12, 2013</td>\n",
       "      <td>NaN</td>\n",
       "      <td>1.5 and up</td>\n",
       "    </tr>\n",
       "    <tr>\n",
       "      <th>4453</th>\n",
       "      <td>[substratum] Vacuum: P</td>\n",
       "      <td>PERSONALIZATION</td>\n",
       "      <td>4.4</td>\n",
       "      <td>230</td>\n",
       "      <td>11000.000000</td>\n",
       "      <td>1,000+</td>\n",
       "      <td>Paid</td>\n",
       "      <td>$1.49</td>\n",
       "      <td>Everyone</td>\n",
       "      <td>Personalization</td>\n",
       "      <td>July 20, 2018</td>\n",
       "      <td>4.4</td>\n",
       "      <td>NaN</td>\n",
       "    </tr>\n",
       "    <tr>\n",
       "      <th>4490</th>\n",
       "      <td>Pi Dark [substratum]</td>\n",
       "      <td>PERSONALIZATION</td>\n",
       "      <td>4.5</td>\n",
       "      <td>189</td>\n",
       "      <td>2100.000000</td>\n",
       "      <td>10,000+</td>\n",
       "      <td>Free</td>\n",
       "      <td>0</td>\n",
       "      <td>Everyone</td>\n",
       "      <td>Personalization</td>\n",
       "      <td>March 27, 2018</td>\n",
       "      <td>1.1</td>\n",
       "      <td>NaN</td>\n",
       "    </tr>\n",
       "    <tr>\n",
       "      <th>6322</th>\n",
       "      <td>Virtual DJ Sound Mixer</td>\n",
       "      <td>TOOLS</td>\n",
       "      <td>4.2</td>\n",
       "      <td>4010</td>\n",
       "      <td>8700.000000</td>\n",
       "      <td>500,000+</td>\n",
       "      <td>Free</td>\n",
       "      <td>0</td>\n",
       "      <td>Everyone</td>\n",
       "      <td>Tools</td>\n",
       "      <td>May 10, 2017</td>\n",
       "      <td>NaN</td>\n",
       "      <td>4.0 and up</td>\n",
       "    </tr>\n",
       "    <tr>\n",
       "      <th>7333</th>\n",
       "      <td>Dots puzzle</td>\n",
       "      <td>FAMILY</td>\n",
       "      <td>4.0</td>\n",
       "      <td>179</td>\n",
       "      <td>14000.000000</td>\n",
       "      <td>50,000+</td>\n",
       "      <td>Paid</td>\n",
       "      <td>$0.99</td>\n",
       "      <td>Everyone</td>\n",
       "      <td>Puzzle</td>\n",
       "      <td>April 18, 2018</td>\n",
       "      <td>NaN</td>\n",
       "      <td>4.0 and up</td>\n",
       "    </tr>\n",
       "    <tr>\n",
       "      <th>10472</th>\n",
       "      <td>Life Made WI-Fi Touchscreen Photo Frame</td>\n",
       "      <td>1.9</td>\n",
       "      <td>19.0</td>\n",
       "      <td>3.0M</td>\n",
       "      <td>21516.529524</td>\n",
       "      <td>Free</td>\n",
       "      <td>0</td>\n",
       "      <td>Everyone</td>\n",
       "      <td>NaN</td>\n",
       "      <td>February 11, 2018</td>\n",
       "      <td>1.0.19</td>\n",
       "      <td>4.0 and up</td>\n",
       "      <td>NaN</td>\n",
       "    </tr>\n",
       "  </tbody>\n",
       "</table>\n",
       "</div>"
      ],
      "text/plain": [
       "                                           App            Category  Rating  \\\n",
       "15             Learn To Draw Kawaii Characters      ART_AND_DESIGN     3.2   \n",
       "1553                      Market Update Helper  LIBRARIES_AND_DEMO     4.1   \n",
       "4453                    [substratum] Vacuum: P     PERSONALIZATION     4.4   \n",
       "4490                      Pi Dark [substratum]     PERSONALIZATION     4.5   \n",
       "6322                    Virtual DJ Sound Mixer               TOOLS     4.2   \n",
       "7333                               Dots puzzle              FAMILY     4.0   \n",
       "10472  Life Made WI-Fi Touchscreen Photo Frame                 1.9    19.0   \n",
       "\n",
       "      Reviews          Size    Installs  Type     Price Content Rating  \\\n",
       "15         55   2700.000000      5,000+  Free         0       Everyone   \n",
       "1553    20145     11.000000  1,000,000+  Free         0       Everyone   \n",
       "4453      230  11000.000000      1,000+  Paid     $1.49       Everyone   \n",
       "4490      189   2100.000000     10,000+  Free         0       Everyone   \n",
       "6322     4010   8700.000000    500,000+  Free         0       Everyone   \n",
       "7333      179  14000.000000     50,000+  Paid     $0.99       Everyone   \n",
       "10472    3.0M  21516.529524        Free     0  Everyone            NaN   \n",
       "\n",
       "                  Genres       Last Updated Current Ver Android Ver  \n",
       "15          Art & Design       June 6, 2018         NaN  4.2 and up  \n",
       "1553    Libraries & Demo  February 12, 2013         NaN  1.5 and up  \n",
       "4453     Personalization      July 20, 2018         4.4         NaN  \n",
       "4490     Personalization     March 27, 2018         1.1         NaN  \n",
       "6322               Tools       May 10, 2017         NaN  4.0 and up  \n",
       "7333              Puzzle     April 18, 2018         NaN  4.0 and up  \n",
       "10472  February 11, 2018             1.0.19  4.0 and up         NaN  "
      ]
     },
     "execution_count": 10,
     "metadata": {},
     "output_type": "execute_result"
    }
   ],
   "source": [
    "(data1[data1.isna().any(axis=1)])"
   ]
  },
  {
   "cell_type": "code",
   "execution_count": 11,
   "id": "bc3a5d0a",
   "metadata": {},
   "outputs": [
    {
     "name": "stdout",
     "output_type": "stream",
     "text": [
      "                                           App            Category  Rating  \\\n",
      "15             Learn To Draw Kawaii Characters      ART_AND_DESIGN     3.2   \n",
      "1553                      Market Update Helper  LIBRARIES_AND_DEMO     4.1   \n",
      "4453                    [substratum] Vacuum: P     PERSONALIZATION     4.4   \n",
      "4490                      Pi Dark [substratum]     PERSONALIZATION     4.5   \n",
      "6322                    Virtual DJ Sound Mixer               TOOLS     4.2   \n",
      "7333                               Dots puzzle              FAMILY     4.0   \n",
      "10472  Life Made WI-Fi Touchscreen Photo Frame                 1.9    19.0   \n",
      "\n",
      "      Reviews          Size    Installs  Type     Price Content Rating  \\\n",
      "15         55   2700.000000      5,000+  Free         0       Everyone   \n",
      "1553    20145     11.000000  1,000,000+  Free         0       Everyone   \n",
      "4453      230  11000.000000      1,000+  Paid     $1.49       Everyone   \n",
      "4490      189   2100.000000     10,000+  Free         0       Everyone   \n",
      "6322     4010   8700.000000    500,000+  Free         0       Everyone   \n",
      "7333      179  14000.000000     50,000+  Paid     $0.99       Everyone   \n",
      "10472    3.0M  21516.529524        Free     0  Everyone            NaN   \n",
      "\n",
      "                  Genres       Last Updated Current Ver Android Ver  \n",
      "15          Art & Design       June 6, 2018         NaN  4.2 and up  \n",
      "1553    Libraries & Demo  February 12, 2013         NaN  1.5 and up  \n",
      "4453     Personalization      July 20, 2018         4.4         NaN  \n",
      "4490     Personalization     March 27, 2018         1.1         NaN  \n",
      "6322               Tools       May 10, 2017         NaN  4.0 and up  \n",
      "7333              Puzzle     April 18, 2018         NaN  4.0 and up  \n",
      "10472  February 11, 2018             1.0.19  4.0 and up         NaN  \n"
     ]
    }
   ],
   "source": [
    "print(data1[data1.isna().any(axis=1)])"
   ]
  },
  {
   "cell_type": "markdown",
   "id": "b7e79763",
   "metadata": {},
   "source": [
    "# .\n",
    "Values are as below: 4453 Personalization july 20, 2018 4.4 Nan 4490 Personalization march\n",
    "    27, 2018 1.1 NaN 10472 February 11, 2018 1.0.19 4.0 and up NaN"
   ]
  },
  {
   "cell_type": "code",
   "execution_count": 12,
   "id": "b98727ef",
   "metadata": {},
   "outputs": [],
   "source": [
    "data2=data1.drop(10472)"
   ]
  },
  {
   "cell_type": "code",
   "execution_count": 13,
   "id": "1db981ca",
   "metadata": {
    "scrolled": true
   },
   "outputs": [
    {
     "name": "stdout",
     "output_type": "stream",
     "text": [
      "Empty DataFrame\n",
      "Columns: [App, Category, Rating, Reviews, Size, Installs, Type, Price, Content Rating, Genres, Last Updated, Current Ver, Android Ver]\n",
      "Index: []\n"
     ]
    }
   ],
   "source": [
    "data2 = data1.drop(10472)\n",
    "#verification\n",
    "verify = data2[data2[\"App\"]=='Life Made WI-Fi Touchscreen Photo Frame']\n",
    "print (verify)"
   ]
  },
  {
   "cell_type": "markdown",
   "id": "621c1341",
   "metadata": {},
   "source": [
    "# .\n",
    "So here we successfully drop 'Life Made Wi-Fi Touchscreen Photo Frame'  as in output we\n",
    "found an empty dataframe.\n",
    "\n",
    "iii. Replace remaining missing values with the mode."
   ]
  },
  {
   "cell_type": "code",
   "execution_count": 14,
   "id": "0637f514",
   "metadata": {},
   "outputs": [
    {
     "name": "stdout",
     "output_type": "stream",
     "text": [
      "                         App         Category  Rating Reviews     Size  \\\n",
      "4453  [substratum] Vacuum: P  PERSONALIZATION     4.4     230  11000.0   \n",
      "\n",
      "     Installs  Type  Price Content Rating           Genres   Last Updated  \\\n",
      "4453   1,000+  Paid  $1.49       Everyone  Personalization  July 20, 2018   \n",
      "\n",
      "     Current Ver Android Ver  \n",
      "4453         4.4         4.0  \n",
      "--------------------------------------------------------\n",
      "                       App         Category  Rating Reviews    Size Installs  \\\n",
      "4490  Pi Dark [substratum]  PERSONALIZATION     4.5     189  2100.0  10,000+   \n",
      "\n",
      "      Type Price Content Rating           Genres    Last Updated Current Ver  \\\n",
      "4490  Free     0       Everyone  Personalization  March 27, 2018         1.1   \n",
      "\n",
      "     Android Ver  \n",
      "4490         4.0  \n"
     ]
    }
   ],
   "source": [
    "import statistics\n",
    "Android_list = data2['Android Ver'].to_list()\n",
    "#print(Android_list)\n",
    "#O/P ['4.2 and up', '1.5 and up', non, non, '4.0 and up', '4.0 and up']\n",
    "\n",
    "#Did Manual wok (illegal)\n",
    "Al= [4.2,1.5,4.0,4.0]\n",
    "#print(AL)\n",
    "#print(statistrics.mode(AL)\n",
    "data2_new = data2.fillna(statistics.mode(Al))\n",
    "print(data2_new.loc[[4453]])\n",
    "print('--------------------------------------------------------')\n",
    "print(data2_new.loc[[4490]])"
   ]
  },
  {
   "cell_type": "markdown",
   "id": "25e9f9b6",
   "metadata": {},
   "source": [
    "# .\n",
    "Now Android ver is 4 for Category 'PERSONALIZATION'\n",
    "\n",
    ".\n",
    "Current ver-replace with most common value"
   ]
  },
  {
   "cell_type": "code",
   "execution_count": 15,
   "id": "fce58cb7",
   "metadata": {
    "scrolled": true
   },
   "outputs": [
    {
     "data": {
      "text/plain": [
       "0"
      ]
     },
     "execution_count": 15,
     "metadata": {},
     "output_type": "execute_result"
    }
   ],
   "source": [
    "data2_new['Current Ver'].isnull().sum()"
   ]
  },
  {
   "cell_type": "markdown",
   "id": "90951c80",
   "metadata": {},
   "source": [
    "# .\n",
    "No missing value is observed in 'Current Ver'"
   ]
  },
  {
   "cell_type": "markdown",
   "id": "af63ff7e",
   "metadata": {},
   "source": [
    "# 2. Data Clean Up - Corecting the data types\n",
    "a. Which all variables need to be brought to numeric types?"
   ]
  },
  {
   "cell_type": "code",
   "execution_count": 16,
   "id": "fce77dea",
   "metadata": {},
   "outputs": [
    {
     "data": {
      "text/plain": [
       "pandas.core.series.Series"
      ]
     },
     "execution_count": 16,
     "metadata": {},
     "output_type": "execute_result"
    }
   ],
   "source": [
    "type(data2_new['Reviews'])\n",
    "type(data2_new['Size'])\n",
    "type(data2_new['Last Updated'])"
   ]
  },
  {
   "cell_type": "markdown",
   "id": "85058890",
   "metadata": {},
   "source": [
    "# .\n",
    "Conversion of series to numerical integers"
   ]
  },
  {
   "cell_type": "code",
   "execution_count": 17,
   "id": "2b583055",
   "metadata": {},
   "outputs": [],
   "source": [
    "data2_new['Reviews'] = data2_new['Reviews'].astype(int)\n",
    "data2_new['Size'] = data2_new['Size'].astype(int)\n",
    "data2_new['Last Updated'] = data2_new['Last Updated'].astype('datetime64[ns]')"
   ]
  },
  {
   "cell_type": "markdown",
   "id": "1c622417",
   "metadata": {},
   "source": [
    "# . \n",
    "Price variable - remove $ sign and convert to float"
   ]
  },
  {
   "cell_type": "code",
   "execution_count": 18,
   "id": "6203e329",
   "metadata": {},
   "outputs": [
    {
     "name": "stderr",
     "output_type": "stream",
     "text": [
      "C:\\Users\\abhij\\AppData\\Local\\Temp/ipykernel_5812/1876605766.py:1: FutureWarning: The default value of regex will change from True to False in a future version. In addition, single character regular expressions will *not* be treated as literal strings when regex=True.\n",
      "  data2_new['Price'] = data2_new['Price'].str.replace('$', '')\n"
     ]
    },
    {
     "data": {
      "text/html": [
       "<div>\n",
       "<style scoped>\n",
       "    .dataframe tbody tr th:only-of-type {\n",
       "        vertical-align: middle;\n",
       "    }\n",
       "\n",
       "    .dataframe tbody tr th {\n",
       "        vertical-align: top;\n",
       "    }\n",
       "\n",
       "    .dataframe thead th {\n",
       "        text-align: right;\n",
       "    }\n",
       "</style>\n",
       "<table border=\"1\" class=\"dataframe\">\n",
       "  <thead>\n",
       "    <tr style=\"text-align: right;\">\n",
       "      <th></th>\n",
       "      <th>App</th>\n",
       "      <th>Category</th>\n",
       "      <th>Rating</th>\n",
       "      <th>Reviews</th>\n",
       "      <th>Size</th>\n",
       "      <th>Installs</th>\n",
       "      <th>Type</th>\n",
       "      <th>Price</th>\n",
       "      <th>Content Rating</th>\n",
       "      <th>Genres</th>\n",
       "      <th>Last Updated</th>\n",
       "      <th>Current Ver</th>\n",
       "      <th>Android Ver</th>\n",
       "    </tr>\n",
       "  </thead>\n",
       "  <tbody>\n",
       "    <tr>\n",
       "      <th>0</th>\n",
       "      <td>Photo Editor &amp; Candy Camera &amp; Grid &amp; ScrapBook</td>\n",
       "      <td>ART_AND_DESIGN</td>\n",
       "      <td>4.1</td>\n",
       "      <td>159</td>\n",
       "      <td>19000</td>\n",
       "      <td>10,000+</td>\n",
       "      <td>Free</td>\n",
       "      <td>0</td>\n",
       "      <td>Everyone</td>\n",
       "      <td>Art &amp; Design</td>\n",
       "      <td>2018-01-07</td>\n",
       "      <td>1.0.0</td>\n",
       "      <td>4.0.3 and up</td>\n",
       "    </tr>\n",
       "    <tr>\n",
       "      <th>1</th>\n",
       "      <td>Coloring book moana</td>\n",
       "      <td>ART_AND_DESIGN</td>\n",
       "      <td>3.9</td>\n",
       "      <td>967</td>\n",
       "      <td>14000</td>\n",
       "      <td>500,000+</td>\n",
       "      <td>Free</td>\n",
       "      <td>0</td>\n",
       "      <td>Everyone</td>\n",
       "      <td>Art &amp; Design;Pretend Play</td>\n",
       "      <td>2018-01-15</td>\n",
       "      <td>2.0.0</td>\n",
       "      <td>4.0.3 and up</td>\n",
       "    </tr>\n",
       "    <tr>\n",
       "      <th>2</th>\n",
       "      <td>U Launcher Lite – FREE Live Cool Themes, Hide ...</td>\n",
       "      <td>ART_AND_DESIGN</td>\n",
       "      <td>4.7</td>\n",
       "      <td>87510</td>\n",
       "      <td>8700</td>\n",
       "      <td>5,000,000+</td>\n",
       "      <td>Free</td>\n",
       "      <td>0</td>\n",
       "      <td>Everyone</td>\n",
       "      <td>Art &amp; Design</td>\n",
       "      <td>2018-08-01</td>\n",
       "      <td>1.2.4</td>\n",
       "      <td>4.0.3 and up</td>\n",
       "    </tr>\n",
       "    <tr>\n",
       "      <th>3</th>\n",
       "      <td>Sketch - Draw &amp; Paint</td>\n",
       "      <td>ART_AND_DESIGN</td>\n",
       "      <td>4.5</td>\n",
       "      <td>215644</td>\n",
       "      <td>25000</td>\n",
       "      <td>50,000,000+</td>\n",
       "      <td>Free</td>\n",
       "      <td>0</td>\n",
       "      <td>Teen</td>\n",
       "      <td>Art &amp; Design</td>\n",
       "      <td>2018-06-08</td>\n",
       "      <td>Varies with device</td>\n",
       "      <td>4.2 and up</td>\n",
       "    </tr>\n",
       "    <tr>\n",
       "      <th>4</th>\n",
       "      <td>Pixel Draw - Number Art Coloring Book</td>\n",
       "      <td>ART_AND_DESIGN</td>\n",
       "      <td>4.3</td>\n",
       "      <td>967</td>\n",
       "      <td>2800</td>\n",
       "      <td>100,000+</td>\n",
       "      <td>Free</td>\n",
       "      <td>0</td>\n",
       "      <td>Everyone</td>\n",
       "      <td>Art &amp; Design;Creativity</td>\n",
       "      <td>2018-06-20</td>\n",
       "      <td>1.1</td>\n",
       "      <td>4.4 and up</td>\n",
       "    </tr>\n",
       "  </tbody>\n",
       "</table>\n",
       "</div>"
      ],
      "text/plain": [
       "                                                 App        Category  Rating  \\\n",
       "0     Photo Editor & Candy Camera & Grid & ScrapBook  ART_AND_DESIGN     4.1   \n",
       "1                                Coloring book moana  ART_AND_DESIGN     3.9   \n",
       "2  U Launcher Lite – FREE Live Cool Themes, Hide ...  ART_AND_DESIGN     4.7   \n",
       "3                              Sketch - Draw & Paint  ART_AND_DESIGN     4.5   \n",
       "4              Pixel Draw - Number Art Coloring Book  ART_AND_DESIGN     4.3   \n",
       "\n",
       "   Reviews   Size     Installs  Type Price Content Rating  \\\n",
       "0      159  19000      10,000+  Free     0       Everyone   \n",
       "1      967  14000     500,000+  Free     0       Everyone   \n",
       "2    87510   8700   5,000,000+  Free     0       Everyone   \n",
       "3   215644  25000  50,000,000+  Free     0           Teen   \n",
       "4      967   2800     100,000+  Free     0       Everyone   \n",
       "\n",
       "                      Genres Last Updated         Current Ver   Android Ver  \n",
       "0               Art & Design   2018-01-07               1.0.0  4.0.3 and up  \n",
       "1  Art & Design;Pretend Play   2018-01-15               2.0.0  4.0.3 and up  \n",
       "2               Art & Design   2018-08-01               1.2.4  4.0.3 and up  \n",
       "3               Art & Design   2018-06-08  Varies with device    4.2 and up  \n",
       "4    Art & Design;Creativity   2018-06-20                 1.1    4.4 and up  "
      ]
     },
     "execution_count": 18,
     "metadata": {},
     "output_type": "execute_result"
    }
   ],
   "source": [
    "data2_new['Price'] = data2_new['Price'].str.replace('$', '')\n",
    "data2_new.head()"
   ]
  },
  {
   "cell_type": "markdown",
   "id": "1e50df4a",
   "metadata": {},
   "source": [
    "# .\n",
    "$ Symbol successfully removed from Price column."
   ]
  },
  {
   "cell_type": "code",
   "execution_count": 19,
   "id": "fafcf717",
   "metadata": {},
   "outputs": [],
   "source": [
    "data2_new['Price']=data2_new['Price'].astype(float)"
   ]
  },
  {
   "cell_type": "code",
   "execution_count": 20,
   "id": "e53bbe27",
   "metadata": {},
   "outputs": [
    {
     "name": "stdout",
     "output_type": "stream",
     "text": [
      "<class 'pandas.core.frame.DataFrame'>\n",
      "Int64Index: 9366 entries, 0 to 10840\n",
      "Data columns (total 13 columns):\n",
      " #   Column          Non-Null Count  Dtype         \n",
      "---  ------          --------------  -----         \n",
      " 0   App             9366 non-null   object        \n",
      " 1   Category        9366 non-null   object        \n",
      " 2   Rating          9366 non-null   float64       \n",
      " 3   Reviews         9366 non-null   int32         \n",
      " 4   Size            9366 non-null   int32         \n",
      " 5   Installs        9366 non-null   object        \n",
      " 6   Type            9366 non-null   object        \n",
      " 7   Price           9366 non-null   float64       \n",
      " 8   Content Rating  9366 non-null   object        \n",
      " 9   Genres          9366 non-null   object        \n",
      " 10  Last Updated    9366 non-null   datetime64[ns]\n",
      " 11  Current Ver     9366 non-null   object        \n",
      " 12  Android Ver     9366 non-null   object        \n",
      "dtypes: datetime64[ns](1), float64(2), int32(2), object(8)\n",
      "memory usage: 1.2+ MB\n"
     ]
    }
   ],
   "source": [
    "data2_new.info()"
   ]
  },
  {
   "cell_type": "markdown",
   "id": "d3c067e5",
   "metadata": {},
   "source": [
    "# .\n",
    "Here we converted various column attributes in as following data type:\n",
    "1. 2 Rating 9366 non-null float64\n",
    "2. 3 Reviews 9366 non-null int32\n",
    "3. 4 Size 9366 non-null float64\n",
    "4. 7 Price 9366 non-null float64\n",
    "5. 10 Last Updated 9366 non-null datetime64[ns]\n",
    "\n",
    "c. Installs - remove','and'+'sign, convert to integer"
   ]
  },
  {
   "cell_type": "code",
   "execution_count": 21,
   "id": "f2be049b",
   "metadata": {},
   "outputs": [
    {
     "name": "stderr",
     "output_type": "stream",
     "text": [
      "C:\\Users\\abhij\\AppData\\Local\\Temp/ipykernel_5812/2418046981.py:1: FutureWarning: The default value of regex will change from True to False in a future version. In addition, single character regular expressions will *not* be treated as literal strings when regex=True.\n",
      "  data2_new['Installs'] = data2_new['Installs'].str.replace('+', '')\n"
     ]
    }
   ],
   "source": [
    "data2_new['Installs'] = data2_new['Installs'].str.replace('+', '')\n",
    "data2_new['Installs'] = data2_new['Installs'].str.replace(',', '')\n",
    "data2_new['Installs'] = data2_new['Installs'].astype(int)"
   ]
  },
  {
   "cell_type": "code",
   "execution_count": 22,
   "id": "83bfd8d1",
   "metadata": {},
   "outputs": [
    {
     "data": {
      "text/html": [
       "<div>\n",
       "<style scoped>\n",
       "    .dataframe tbody tr th:only-of-type {\n",
       "        vertical-align: middle;\n",
       "    }\n",
       "\n",
       "    .dataframe tbody tr th {\n",
       "        vertical-align: top;\n",
       "    }\n",
       "\n",
       "    .dataframe thead th {\n",
       "        text-align: right;\n",
       "    }\n",
       "</style>\n",
       "<table border=\"1\" class=\"dataframe\">\n",
       "  <thead>\n",
       "    <tr style=\"text-align: right;\">\n",
       "      <th></th>\n",
       "      <th>App</th>\n",
       "      <th>Category</th>\n",
       "      <th>Rating</th>\n",
       "      <th>Reviews</th>\n",
       "      <th>Size</th>\n",
       "      <th>Installs</th>\n",
       "      <th>Type</th>\n",
       "      <th>Price</th>\n",
       "      <th>Content Rating</th>\n",
       "      <th>Genres</th>\n",
       "      <th>Last Updated</th>\n",
       "      <th>Current Ver</th>\n",
       "      <th>Android Ver</th>\n",
       "    </tr>\n",
       "  </thead>\n",
       "  <tbody>\n",
       "    <tr>\n",
       "      <th>0</th>\n",
       "      <td>Photo Editor &amp; Candy Camera &amp; Grid &amp; ScrapBook</td>\n",
       "      <td>ART_AND_DESIGN</td>\n",
       "      <td>4.1</td>\n",
       "      <td>159</td>\n",
       "      <td>19000</td>\n",
       "      <td>10000</td>\n",
       "      <td>Free</td>\n",
       "      <td>0.0</td>\n",
       "      <td>Everyone</td>\n",
       "      <td>Art &amp; Design</td>\n",
       "      <td>2018-01-07</td>\n",
       "      <td>1.0.0</td>\n",
       "      <td>4.0.3 and up</td>\n",
       "    </tr>\n",
       "    <tr>\n",
       "      <th>1</th>\n",
       "      <td>Coloring book moana</td>\n",
       "      <td>ART_AND_DESIGN</td>\n",
       "      <td>3.9</td>\n",
       "      <td>967</td>\n",
       "      <td>14000</td>\n",
       "      <td>500000</td>\n",
       "      <td>Free</td>\n",
       "      <td>0.0</td>\n",
       "      <td>Everyone</td>\n",
       "      <td>Art &amp; Design;Pretend Play</td>\n",
       "      <td>2018-01-15</td>\n",
       "      <td>2.0.0</td>\n",
       "      <td>4.0.3 and up</td>\n",
       "    </tr>\n",
       "    <tr>\n",
       "      <th>2</th>\n",
       "      <td>U Launcher Lite – FREE Live Cool Themes, Hide ...</td>\n",
       "      <td>ART_AND_DESIGN</td>\n",
       "      <td>4.7</td>\n",
       "      <td>87510</td>\n",
       "      <td>8700</td>\n",
       "      <td>5000000</td>\n",
       "      <td>Free</td>\n",
       "      <td>0.0</td>\n",
       "      <td>Everyone</td>\n",
       "      <td>Art &amp; Design</td>\n",
       "      <td>2018-08-01</td>\n",
       "      <td>1.2.4</td>\n",
       "      <td>4.0.3 and up</td>\n",
       "    </tr>\n",
       "    <tr>\n",
       "      <th>3</th>\n",
       "      <td>Sketch - Draw &amp; Paint</td>\n",
       "      <td>ART_AND_DESIGN</td>\n",
       "      <td>4.5</td>\n",
       "      <td>215644</td>\n",
       "      <td>25000</td>\n",
       "      <td>50000000</td>\n",
       "      <td>Free</td>\n",
       "      <td>0.0</td>\n",
       "      <td>Teen</td>\n",
       "      <td>Art &amp; Design</td>\n",
       "      <td>2018-06-08</td>\n",
       "      <td>Varies with device</td>\n",
       "      <td>4.2 and up</td>\n",
       "    </tr>\n",
       "    <tr>\n",
       "      <th>4</th>\n",
       "      <td>Pixel Draw - Number Art Coloring Book</td>\n",
       "      <td>ART_AND_DESIGN</td>\n",
       "      <td>4.3</td>\n",
       "      <td>967</td>\n",
       "      <td>2800</td>\n",
       "      <td>100000</td>\n",
       "      <td>Free</td>\n",
       "      <td>0.0</td>\n",
       "      <td>Everyone</td>\n",
       "      <td>Art &amp; Design;Creativity</td>\n",
       "      <td>2018-06-20</td>\n",
       "      <td>1.1</td>\n",
       "      <td>4.4 and up</td>\n",
       "    </tr>\n",
       "  </tbody>\n",
       "</table>\n",
       "</div>"
      ],
      "text/plain": [
       "                                                 App        Category  Rating  \\\n",
       "0     Photo Editor & Candy Camera & Grid & ScrapBook  ART_AND_DESIGN     4.1   \n",
       "1                                Coloring book moana  ART_AND_DESIGN     3.9   \n",
       "2  U Launcher Lite – FREE Live Cool Themes, Hide ...  ART_AND_DESIGN     4.7   \n",
       "3                              Sketch - Draw & Paint  ART_AND_DESIGN     4.5   \n",
       "4              Pixel Draw - Number Art Coloring Book  ART_AND_DESIGN     4.3   \n",
       "\n",
       "   Reviews   Size  Installs  Type  Price Content Rating  \\\n",
       "0      159  19000     10000  Free    0.0       Everyone   \n",
       "1      967  14000    500000  Free    0.0       Everyone   \n",
       "2    87510   8700   5000000  Free    0.0       Everyone   \n",
       "3   215644  25000  50000000  Free    0.0           Teen   \n",
       "4      967   2800    100000  Free    0.0       Everyone   \n",
       "\n",
       "                      Genres Last Updated         Current Ver   Android Ver  \n",
       "0               Art & Design   2018-01-07               1.0.0  4.0.3 and up  \n",
       "1  Art & Design;Pretend Play   2018-01-15               2.0.0  4.0.3 and up  \n",
       "2               Art & Design   2018-08-01               1.2.4  4.0.3 and up  \n",
       "3               Art & Design   2018-06-08  Varies with device    4.2 and up  \n",
       "4    Art & Design;Creativity   2018-06-20                 1.1    4.4 and up  "
      ]
     },
     "execution_count": 22,
     "metadata": {},
     "output_type": "execute_result"
    }
   ],
   "source": [
    "data2_new.head()"
   ]
  },
  {
   "cell_type": "code",
   "execution_count": 23,
   "id": "0f1f6c97",
   "metadata": {},
   "outputs": [
    {
     "name": "stdout",
     "output_type": "stream",
     "text": [
      "<class 'pandas.core.frame.DataFrame'>\n",
      "Int64Index: 9366 entries, 0 to 10840\n",
      "Data columns (total 13 columns):\n",
      " #   Column          Non-Null Count  Dtype         \n",
      "---  ------          --------------  -----         \n",
      " 0   App             9366 non-null   object        \n",
      " 1   Category        9366 non-null   object        \n",
      " 2   Rating          9366 non-null   float64       \n",
      " 3   Reviews         9366 non-null   int32         \n",
      " 4   Size            9366 non-null   int32         \n",
      " 5   Installs        9366 non-null   int32         \n",
      " 6   Type            9366 non-null   object        \n",
      " 7   Price           9366 non-null   float64       \n",
      " 8   Content Rating  9366 non-null   object        \n",
      " 9   Genres          9366 non-null   object        \n",
      " 10  Last Updated    9366 non-null   datetime64[ns]\n",
      " 11  Current Ver     9366 non-null   object        \n",
      " 12  Android Ver     9366 non-null   object        \n",
      "dtypes: datetime64[ns](1), float64(2), int32(3), object(7)\n",
      "memory usage: 1.1+ MB\n"
     ]
    }
   ],
   "source": [
    "data2_new.info()"
   ]
  },
  {
   "cell_type": "markdown",
   "id": "632055df",
   "metadata": {},
   "source": [
    "# .\n",
    "Successfully removed +and, sign from colmn installs as well as change datatype to int as per requirement"
   ]
  },
  {
   "cell_type": "markdown",
   "id": "91661522",
   "metadata": {},
   "source": [
    "# 3. Sanity checks - check for the following and handle accodingly\n",
    "a. Avg. rating should be between 1 and 5, as only these values are allowed on the play store."
   ]
  },
  {
   "cell_type": "code",
   "execution_count": 24,
   "id": "53109fe1",
   "metadata": {},
   "outputs": [
    {
     "data": {
      "text/plain": [
       "array([4.1, 3.9, 4.7, 4.5, 4.3, 4.4, 3.8, 4.2, 4.6, 3.2, 4. , 4.8, 4.9,\n",
       "       3.6, 3.7, 3.3, 3.4, 3.5, 3.1, 5. , 2.6, 3. , 1.9, 2.5, 2.8, 2.7,\n",
       "       1. , 2.9, 2.3, 2.2, 1.7, 2. , 1.8, 2.4, 1.6, 2.1, 1.4, 1.5, 1.2])"
      ]
     },
     "execution_count": 24,
     "metadata": {},
     "output_type": "execute_result"
    }
   ],
   "source": [
    "pd.unique(data2_new[['Rating']].values.ravel())\n",
    "#.Ravel(--> return 1D array with all the input-arrat elements)"
   ]
  },
  {
   "cell_type": "markdown",
   "id": "e743dc71",
   "metadata": {},
   "source": [
    "# .\n",
    "Yes all Avg. rating values is in between 1 and 5 i. Are there any such records? Drop if so.-->\n",
    "No such record has been observed.\n",
    "\n",
    ".\n",
    "b. Reviews should not be more than installs as only those who installed can review the app."
   ]
  },
  {
   "cell_type": "code",
   "execution_count": 25,
   "id": "bfa1a583",
   "metadata": {},
   "outputs": [
    {
     "data": {
      "text/html": [
       "<div>\n",
       "<style scoped>\n",
       "    .dataframe tbody tr th:only-of-type {\n",
       "        vertical-align: middle;\n",
       "    }\n",
       "\n",
       "    .dataframe tbody tr th {\n",
       "        vertical-align: top;\n",
       "    }\n",
       "\n",
       "    .dataframe thead th {\n",
       "        text-align: right;\n",
       "    }\n",
       "</style>\n",
       "<table border=\"1\" class=\"dataframe\">\n",
       "  <thead>\n",
       "    <tr style=\"text-align: right;\">\n",
       "      <th></th>\n",
       "      <th>App</th>\n",
       "      <th>Category</th>\n",
       "      <th>Rating</th>\n",
       "      <th>Reviews</th>\n",
       "      <th>Size</th>\n",
       "      <th>Installs</th>\n",
       "      <th>Type</th>\n",
       "      <th>Price</th>\n",
       "      <th>Content Rating</th>\n",
       "      <th>Genres</th>\n",
       "      <th>Last Updated</th>\n",
       "      <th>Current Ver</th>\n",
       "      <th>Android Ver</th>\n",
       "    </tr>\n",
       "  </thead>\n",
       "  <tbody>\n",
       "    <tr>\n",
       "      <th>0</th>\n",
       "      <td>Photo Editor &amp; Candy Camera &amp; Grid &amp; ScrapBook</td>\n",
       "      <td>ART_AND_DESIGN</td>\n",
       "      <td>4.1</td>\n",
       "      <td>159</td>\n",
       "      <td>19000</td>\n",
       "      <td>10000</td>\n",
       "      <td>Free</td>\n",
       "      <td>0.0</td>\n",
       "      <td>Everyone</td>\n",
       "      <td>Art &amp; Design</td>\n",
       "      <td>2018-01-07</td>\n",
       "      <td>1.0.0</td>\n",
       "      <td>4.0.3 and up</td>\n",
       "    </tr>\n",
       "    <tr>\n",
       "      <th>1</th>\n",
       "      <td>Coloring book moana</td>\n",
       "      <td>ART_AND_DESIGN</td>\n",
       "      <td>3.9</td>\n",
       "      <td>967</td>\n",
       "      <td>14000</td>\n",
       "      <td>500000</td>\n",
       "      <td>Free</td>\n",
       "      <td>0.0</td>\n",
       "      <td>Everyone</td>\n",
       "      <td>Art &amp; Design;Pretend Play</td>\n",
       "      <td>2018-01-15</td>\n",
       "      <td>2.0.0</td>\n",
       "      <td>4.0.3 and up</td>\n",
       "    </tr>\n",
       "    <tr>\n",
       "      <th>2</th>\n",
       "      <td>U Launcher Lite – FREE Live Cool Themes, Hide ...</td>\n",
       "      <td>ART_AND_DESIGN</td>\n",
       "      <td>4.7</td>\n",
       "      <td>87510</td>\n",
       "      <td>8700</td>\n",
       "      <td>5000000</td>\n",
       "      <td>Free</td>\n",
       "      <td>0.0</td>\n",
       "      <td>Everyone</td>\n",
       "      <td>Art &amp; Design</td>\n",
       "      <td>2018-08-01</td>\n",
       "      <td>1.2.4</td>\n",
       "      <td>4.0.3 and up</td>\n",
       "    </tr>\n",
       "    <tr>\n",
       "      <th>3</th>\n",
       "      <td>Sketch - Draw &amp; Paint</td>\n",
       "      <td>ART_AND_DESIGN</td>\n",
       "      <td>4.5</td>\n",
       "      <td>215644</td>\n",
       "      <td>25000</td>\n",
       "      <td>50000000</td>\n",
       "      <td>Free</td>\n",
       "      <td>0.0</td>\n",
       "      <td>Teen</td>\n",
       "      <td>Art &amp; Design</td>\n",
       "      <td>2018-06-08</td>\n",
       "      <td>Varies with device</td>\n",
       "      <td>4.2 and up</td>\n",
       "    </tr>\n",
       "    <tr>\n",
       "      <th>4</th>\n",
       "      <td>Pixel Draw - Number Art Coloring Book</td>\n",
       "      <td>ART_AND_DESIGN</td>\n",
       "      <td>4.3</td>\n",
       "      <td>967</td>\n",
       "      <td>2800</td>\n",
       "      <td>100000</td>\n",
       "      <td>Free</td>\n",
       "      <td>0.0</td>\n",
       "      <td>Everyone</td>\n",
       "      <td>Art &amp; Design;Creativity</td>\n",
       "      <td>2018-06-20</td>\n",
       "      <td>1.1</td>\n",
       "      <td>4.4 and up</td>\n",
       "    </tr>\n",
       "  </tbody>\n",
       "</table>\n",
       "</div>"
      ],
      "text/plain": [
       "                                                 App        Category  Rating  \\\n",
       "0     Photo Editor & Candy Camera & Grid & ScrapBook  ART_AND_DESIGN     4.1   \n",
       "1                                Coloring book moana  ART_AND_DESIGN     3.9   \n",
       "2  U Launcher Lite – FREE Live Cool Themes, Hide ...  ART_AND_DESIGN     4.7   \n",
       "3                              Sketch - Draw & Paint  ART_AND_DESIGN     4.5   \n",
       "4              Pixel Draw - Number Art Coloring Book  ART_AND_DESIGN     4.3   \n",
       "\n",
       "   Reviews   Size  Installs  Type  Price Content Rating  \\\n",
       "0      159  19000     10000  Free    0.0       Everyone   \n",
       "1      967  14000    500000  Free    0.0       Everyone   \n",
       "2    87510   8700   5000000  Free    0.0       Everyone   \n",
       "3   215644  25000  50000000  Free    0.0           Teen   \n",
       "4      967   2800    100000  Free    0.0       Everyone   \n",
       "\n",
       "                      Genres Last Updated         Current Ver   Android Ver  \n",
       "0               Art & Design   2018-01-07               1.0.0  4.0.3 and up  \n",
       "1  Art & Design;Pretend Play   2018-01-15               2.0.0  4.0.3 and up  \n",
       "2               Art & Design   2018-08-01               1.2.4  4.0.3 and up  \n",
       "3               Art & Design   2018-06-08  Varies with device    4.2 and up  \n",
       "4    Art & Design;Creativity   2018-06-20                 1.1    4.4 and up  "
      ]
     },
     "execution_count": 25,
     "metadata": {},
     "output_type": "execute_result"
    }
   ],
   "source": [
    "df=pd.DataFrame()\n",
    "df=data2_new[data2_new.Reviews <= data2_new.Installs]\n",
    "df.head()"
   ]
  },
  {
   "cell_type": "code",
   "execution_count": 26,
   "id": "7f822d27",
   "metadata": {},
   "outputs": [
    {
     "data": {
      "text/plain": [
       "(9359, 13)"
      ]
     },
     "execution_count": 26,
     "metadata": {},
     "output_type": "execute_result"
    }
   ],
   "source": [
    "df.shape"
   ]
  },
  {
   "cell_type": "markdown",
   "id": "c6ab3816",
   "metadata": {},
   "source": [
    "# As\n",
    "    percondition we got 9359 rows of data."
   ]
  },
  {
   "cell_type": "markdown",
   "id": "79cc38b3",
   "metadata": {},
   "source": [
    "# 4. Identify and hangle outliers -\n",
    "    \n",
    "    a. Price column\n",
    "    \n",
    "    1. Make suitable plot to identify outlies in price"
   ]
  },
  {
   "cell_type": "code",
   "execution_count": 27,
   "id": "b526a428",
   "metadata": {
    "scrolled": false
   },
   "outputs": [
    {
     "name": "stderr",
     "output_type": "stream",
     "text": [
      "C:\\Users\\abhij\\AppData\\Local\\Programs\\Python\\Python310\\lib\\site-packages\\seaborn\\_decorators.py:36: FutureWarning: Pass the following variable as a keyword arg: x. From version 0.12, the only valid positional argument will be `data`, and passing other arguments without an explicit keyword will result in an error or misinterpretation.\n",
      "  warnings.warn(\n"
     ]
    },
    {
     "data": {
      "image/png": "[encoded data removed]",
      "text/plain": [
       "<Figure size 720x576 with 1 Axes>"
      ]
     },
     "metadata": {
      "needs_background": "light"
     },
     "output_type": "display_data"
    }
   ],
   "source": [
    "plt.subplots(figsize=(10,8))\n",
    "sns.boxplot(df.Price)\n",
    "plt.xlabel('Unit Price')\n",
    "plt.title('Unit Price')\n",
    "plt.grid(linestyle='-')\n",
    "plt.show()"
   ]
  },
  {
   "cell_type": "markdown",
   "id": "f45006cb",
   "metadata": {},
   "source": [
    "# As \n",
    "Using above boxplot we can observe the outliers in price column\n",
    "\n",
    "ii. Do you expect apps on the play store to cost $200? check out these cases"
   ]
  },
  {
   "cell_type": "code",
   "execution_count": 28,
   "id": "8a7f46c9",
   "metadata": {},
   "outputs": [
    {
     "name": "stdout",
     "output_type": "stream",
     "text": [
      "Empty DataFrame\n",
      "Columns: [App, Category, Rating, Reviews, Size, Installs, Type, Price, Content Rating, Genres, Last Updated, Current Ver, Android Ver]\n",
      "Index: []\n"
     ]
    }
   ],
   "source": [
    "rslt_df = data2_new[data2_new['Price']==200]\n",
    "print(rslt_df)"
   ]
  },
  {
   "cell_type": "code",
   "execution_count": 29,
   "id": "2585d438",
   "metadata": {
    "scrolled": false
   },
   "outputs": [
    {
     "data": {
      "text/html": [
       "<div>\n",
       "<style scoped>\n",
       "    .dataframe tbody tr th:only-of-type {\n",
       "        vertical-align: middle;\n",
       "    }\n",
       "\n",
       "    .dataframe tbody tr th {\n",
       "        vertical-align: top;\n",
       "    }\n",
       "\n",
       "    .dataframe thead th {\n",
       "        text-align: right;\n",
       "    }\n",
       "</style>\n",
       "<table border=\"1\" class=\"dataframe\">\n",
       "  <thead>\n",
       "    <tr style=\"text-align: right;\">\n",
       "      <th></th>\n",
       "      <th>App</th>\n",
       "      <th>Category</th>\n",
       "      <th>Rating</th>\n",
       "      <th>Reviews</th>\n",
       "      <th>Size</th>\n",
       "      <th>Installs</th>\n",
       "      <th>Type</th>\n",
       "      <th>Price</th>\n",
       "      <th>Content Rating</th>\n",
       "      <th>Genres</th>\n",
       "      <th>Last Updated</th>\n",
       "      <th>Current Ver</th>\n",
       "      <th>Android Ver</th>\n",
       "    </tr>\n",
       "  </thead>\n",
       "  <tbody>\n",
       "  </tbody>\n",
       "</table>\n",
       "</div>"
      ],
      "text/plain": [
       "Empty DataFrame\n",
       "Columns: [App, Category, Rating, Reviews, Size, Installs, Type, Price, Content Rating, Genres, Last Updated, Current Ver, Android Ver]\n",
       "Index: []"
      ]
     },
     "execution_count": 29,
     "metadata": {},
     "output_type": "execute_result"
    }
   ],
   "source": [
    "rslt_df"
   ]
  },
  {
   "cell_type": "markdown",
   "id": "2756e425",
   "metadata": {},
   "source": [
    "# in\n",
    "original dataframe there is a row of app $200 but if you see rating column is blank\n",
    "and previously we drop data whose rating value is null. Hence in new data frame we got Empty DataFrame\n",
    "\n",
    "iii. After dropping the useless records, make the suitable plot again identify outlires --> To fullfill above condition let's remove whose price values is 0."
   ]
  },
  {
   "cell_type": "code",
   "execution_count": 30,
   "id": "4bd0f0fc",
   "metadata": {},
   "outputs": [
    {
     "data": {
      "text/html": [
       "<div>\n",
       "<style scoped>\n",
       "    .dataframe tbody tr th:only-of-type {\n",
       "        vertical-align: middle;\n",
       "    }\n",
       "\n",
       "    .dataframe tbody tr th {\n",
       "        vertical-align: top;\n",
       "    }\n",
       "\n",
       "    .dataframe thead th {\n",
       "        text-align: right;\n",
       "    }\n",
       "</style>\n",
       "<table border=\"1\" class=\"dataframe\">\n",
       "  <thead>\n",
       "    <tr style=\"text-align: right;\">\n",
       "      <th></th>\n",
       "      <th>App</th>\n",
       "      <th>Category</th>\n",
       "      <th>Rating</th>\n",
       "      <th>Reviews</th>\n",
       "      <th>Size</th>\n",
       "      <th>Installs</th>\n",
       "      <th>Type</th>\n",
       "      <th>Price</th>\n",
       "      <th>Content Rating</th>\n",
       "      <th>Genres</th>\n",
       "      <th>Last Updated</th>\n",
       "      <th>Current Ver</th>\n",
       "      <th>Android Ver</th>\n",
       "    </tr>\n",
       "  </thead>\n",
       "  <tbody>\n",
       "    <tr>\n",
       "      <th>234</th>\n",
       "      <td>TurboScan: scan documents and receipts in PDF</td>\n",
       "      <td>BUSINESS</td>\n",
       "      <td>4.7</td>\n",
       "      <td>11442</td>\n",
       "      <td>6800</td>\n",
       "      <td>100000</td>\n",
       "      <td>Paid</td>\n",
       "      <td>4.99</td>\n",
       "      <td>Everyone</td>\n",
       "      <td>Business</td>\n",
       "      <td>2018-03-25</td>\n",
       "      <td>1.5.2</td>\n",
       "      <td>4.0 and up</td>\n",
       "    </tr>\n",
       "    <tr>\n",
       "      <th>235</th>\n",
       "      <td>Tiny Scanner Pro: PDF Doc Scan</td>\n",
       "      <td>BUSINESS</td>\n",
       "      <td>4.8</td>\n",
       "      <td>10295</td>\n",
       "      <td>39000</td>\n",
       "      <td>100000</td>\n",
       "      <td>Paid</td>\n",
       "      <td>4.99</td>\n",
       "      <td>Everyone</td>\n",
       "      <td>Business</td>\n",
       "      <td>2017-04-11</td>\n",
       "      <td>3.4.6</td>\n",
       "      <td>3.0 and up</td>\n",
       "    </tr>\n",
       "    <tr>\n",
       "      <th>290</th>\n",
       "      <td>TurboScan: scan documents and receipts in PDF</td>\n",
       "      <td>BUSINESS</td>\n",
       "      <td>4.7</td>\n",
       "      <td>11442</td>\n",
       "      <td>6800</td>\n",
       "      <td>100000</td>\n",
       "      <td>Paid</td>\n",
       "      <td>4.99</td>\n",
       "      <td>Everyone</td>\n",
       "      <td>Business</td>\n",
       "      <td>2018-03-25</td>\n",
       "      <td>1.5.2</td>\n",
       "      <td>4.0 and up</td>\n",
       "    </tr>\n",
       "    <tr>\n",
       "      <th>291</th>\n",
       "      <td>Tiny Scanner Pro: PDF Doc Scan</td>\n",
       "      <td>BUSINESS</td>\n",
       "      <td>4.8</td>\n",
       "      <td>10295</td>\n",
       "      <td>39000</td>\n",
       "      <td>100000</td>\n",
       "      <td>Paid</td>\n",
       "      <td>4.99</td>\n",
       "      <td>Everyone</td>\n",
       "      <td>Business</td>\n",
       "      <td>2017-04-11</td>\n",
       "      <td>3.4.6</td>\n",
       "      <td>3.0 and up</td>\n",
       "    </tr>\n",
       "    <tr>\n",
       "      <th>427</th>\n",
       "      <td>Puffin Browser Pro</td>\n",
       "      <td>COMMUNICATION</td>\n",
       "      <td>4.0</td>\n",
       "      <td>18247</td>\n",
       "      <td>21516</td>\n",
       "      <td>100000</td>\n",
       "      <td>Paid</td>\n",
       "      <td>3.99</td>\n",
       "      <td>Everyone</td>\n",
       "      <td>Communication</td>\n",
       "      <td>2018-07-05</td>\n",
       "      <td>7.5.3.20547</td>\n",
       "      <td>4.1 and up</td>\n",
       "    </tr>\n",
       "  </tbody>\n",
       "</table>\n",
       "</div>"
      ],
      "text/plain": [
       "                                               App       Category  Rating  \\\n",
       "234  TurboScan: scan documents and receipts in PDF       BUSINESS     4.7   \n",
       "235                 Tiny Scanner Pro: PDF Doc Scan       BUSINESS     4.8   \n",
       "290  TurboScan: scan documents and receipts in PDF       BUSINESS     4.7   \n",
       "291                 Tiny Scanner Pro: PDF Doc Scan       BUSINESS     4.8   \n",
       "427                             Puffin Browser Pro  COMMUNICATION     4.0   \n",
       "\n",
       "     Reviews   Size  Installs  Type  Price Content Rating         Genres  \\\n",
       "234    11442   6800    100000  Paid   4.99       Everyone       Business   \n",
       "235    10295  39000    100000  Paid   4.99       Everyone       Business   \n",
       "290    11442   6800    100000  Paid   4.99       Everyone       Business   \n",
       "291    10295  39000    100000  Paid   4.99       Everyone       Business   \n",
       "427    18247  21516    100000  Paid   3.99       Everyone  Communication   \n",
       "\n",
       "    Last Updated  Current Ver Android Ver  \n",
       "234   2018-03-25        1.5.2  4.0 and up  \n",
       "235   2017-04-11        3.4.6  3.0 and up  \n",
       "290   2018-03-25        1.5.2  4.0 and up  \n",
       "291   2017-04-11        3.4.6  3.0 and up  \n",
       "427   2018-07-05  7.5.3.20547  4.1 and up  "
      ]
     },
     "execution_count": 30,
     "metadata": {},
     "output_type": "execute_result"
    }
   ],
   "source": [
    "useful_df=df[df['Price'] !=0]\n",
    "useful_df.head()"
   ]
  },
  {
   "cell_type": "code",
   "execution_count": 31,
   "id": "fd5a8fd3",
   "metadata": {},
   "outputs": [
    {
     "name": "stderr",
     "output_type": "stream",
     "text": [
      "C:\\Users\\abhij\\AppData\\Local\\Programs\\Python\\Python310\\lib\\site-packages\\seaborn\\_decorators.py:36: FutureWarning: Pass the following variable as a keyword arg: x. From version 0.12, the only valid positional argument will be `data`, and passing other arguments without an explicit keyword will result in an error or misinterpretation.\n",
      "  warnings.warn(\n"
     ]
    },
    {
     "data": {
      "image/png": "[encoded data removed]",
      "text/plain": [
       "<Figure size 1440x720 with 1 Axes>"
      ]
     },
     "metadata": {
      "needs_background": "light"
     },
     "output_type": "display_data"
    }
   ],
   "source": [
    "plt.subplots(figsize=(20,10))\n",
    "sns.boxplot(useful_df['Price'])\n",
    "plt.xlabel('Unit Price')\n",
    "plt.title('Unit Price')\n",
    "plt.grid()\n",
    "plt.show()"
   ]
  },
  {
   "cell_type": "markdown",
   "id": "df81e624",
   "metadata": {},
   "source": [
    "# iv. Limit data to records with price < $ 30"
   ]
  },
  {
   "cell_type": "code",
   "execution_count": 32,
   "id": "01fbb70b",
   "metadata": {},
   "outputs": [
    {
     "data": {
      "text/html": [
       "<div>\n",
       "<style scoped>\n",
       "    .dataframe tbody tr th:only-of-type {\n",
       "        vertical-align: middle;\n",
       "    }\n",
       "\n",
       "    .dataframe tbody tr th {\n",
       "        vertical-align: top;\n",
       "    }\n",
       "\n",
       "    .dataframe thead th {\n",
       "        text-align: right;\n",
       "    }\n",
       "</style>\n",
       "<table border=\"1\" class=\"dataframe\">\n",
       "  <thead>\n",
       "    <tr style=\"text-align: right;\">\n",
       "      <th></th>\n",
       "      <th>App</th>\n",
       "      <th>Category</th>\n",
       "      <th>Rating</th>\n",
       "      <th>Reviews</th>\n",
       "      <th>Size</th>\n",
       "      <th>Installs</th>\n",
       "      <th>Type</th>\n",
       "      <th>Price</th>\n",
       "      <th>Content Rating</th>\n",
       "      <th>Genres</th>\n",
       "      <th>Last Updated</th>\n",
       "      <th>Current Ver</th>\n",
       "      <th>Android Ver</th>\n",
       "    </tr>\n",
       "  </thead>\n",
       "  <tbody>\n",
       "    <tr>\n",
       "      <th>0</th>\n",
       "      <td>Photo Editor &amp; Candy Camera &amp; Grid &amp; ScrapBook</td>\n",
       "      <td>ART_AND_DESIGN</td>\n",
       "      <td>4.1</td>\n",
       "      <td>159</td>\n",
       "      <td>19000</td>\n",
       "      <td>10000</td>\n",
       "      <td>Free</td>\n",
       "      <td>0.0</td>\n",
       "      <td>Everyone</td>\n",
       "      <td>Art &amp; Design</td>\n",
       "      <td>2018-01-07</td>\n",
       "      <td>1.0.0</td>\n",
       "      <td>4.0.3 and up</td>\n",
       "    </tr>\n",
       "    <tr>\n",
       "      <th>1</th>\n",
       "      <td>Coloring book moana</td>\n",
       "      <td>ART_AND_DESIGN</td>\n",
       "      <td>3.9</td>\n",
       "      <td>967</td>\n",
       "      <td>14000</td>\n",
       "      <td>500000</td>\n",
       "      <td>Free</td>\n",
       "      <td>0.0</td>\n",
       "      <td>Everyone</td>\n",
       "      <td>Art &amp; Design;Pretend Play</td>\n",
       "      <td>2018-01-15</td>\n",
       "      <td>2.0.0</td>\n",
       "      <td>4.0.3 and up</td>\n",
       "    </tr>\n",
       "    <tr>\n",
       "      <th>2</th>\n",
       "      <td>U Launcher Lite – FREE Live Cool Themes, Hide ...</td>\n",
       "      <td>ART_AND_DESIGN</td>\n",
       "      <td>4.7</td>\n",
       "      <td>87510</td>\n",
       "      <td>8700</td>\n",
       "      <td>5000000</td>\n",
       "      <td>Free</td>\n",
       "      <td>0.0</td>\n",
       "      <td>Everyone</td>\n",
       "      <td>Art &amp; Design</td>\n",
       "      <td>2018-08-01</td>\n",
       "      <td>1.2.4</td>\n",
       "      <td>4.0.3 and up</td>\n",
       "    </tr>\n",
       "    <tr>\n",
       "      <th>3</th>\n",
       "      <td>Sketch - Draw &amp; Paint</td>\n",
       "      <td>ART_AND_DESIGN</td>\n",
       "      <td>4.5</td>\n",
       "      <td>215644</td>\n",
       "      <td>25000</td>\n",
       "      <td>50000000</td>\n",
       "      <td>Free</td>\n",
       "      <td>0.0</td>\n",
       "      <td>Teen</td>\n",
       "      <td>Art &amp; Design</td>\n",
       "      <td>2018-06-08</td>\n",
       "      <td>Varies with device</td>\n",
       "      <td>4.2 and up</td>\n",
       "    </tr>\n",
       "    <tr>\n",
       "      <th>4</th>\n",
       "      <td>Pixel Draw - Number Art Coloring Book</td>\n",
       "      <td>ART_AND_DESIGN</td>\n",
       "      <td>4.3</td>\n",
       "      <td>967</td>\n",
       "      <td>2800</td>\n",
       "      <td>100000</td>\n",
       "      <td>Free</td>\n",
       "      <td>0.0</td>\n",
       "      <td>Everyone</td>\n",
       "      <td>Art &amp; Design;Creativity</td>\n",
       "      <td>2018-06-20</td>\n",
       "      <td>1.1</td>\n",
       "      <td>4.4 and up</td>\n",
       "    </tr>\n",
       "  </tbody>\n",
       "</table>\n",
       "</div>"
      ],
      "text/plain": [
       "                                                 App        Category  Rating  \\\n",
       "0     Photo Editor & Candy Camera & Grid & ScrapBook  ART_AND_DESIGN     4.1   \n",
       "1                                Coloring book moana  ART_AND_DESIGN     3.9   \n",
       "2  U Launcher Lite – FREE Live Cool Themes, Hide ...  ART_AND_DESIGN     4.7   \n",
       "3                              Sketch - Draw & Paint  ART_AND_DESIGN     4.5   \n",
       "4              Pixel Draw - Number Art Coloring Book  ART_AND_DESIGN     4.3   \n",
       "\n",
       "   Reviews   Size  Installs  Type  Price Content Rating  \\\n",
       "0      159  19000     10000  Free    0.0       Everyone   \n",
       "1      967  14000    500000  Free    0.0       Everyone   \n",
       "2    87510   8700   5000000  Free    0.0       Everyone   \n",
       "3   215644  25000  50000000  Free    0.0           Teen   \n",
       "4      967   2800    100000  Free    0.0       Everyone   \n",
       "\n",
       "                      Genres Last Updated         Current Ver   Android Ver  \n",
       "0               Art & Design   2018-01-07               1.0.0  4.0.3 and up  \n",
       "1  Art & Design;Pretend Play   2018-01-15               2.0.0  4.0.3 and up  \n",
       "2               Art & Design   2018-08-01               1.2.4  4.0.3 and up  \n",
       "3               Art & Design   2018-06-08  Varies with device    4.2 and up  \n",
       "4    Art & Design;Creativity   2018-06-20                 1.1    4.4 and up  "
      ]
     },
     "execution_count": 32,
     "metadata": {},
     "output_type": "execute_result"
    }
   ],
   "source": [
    "limit_data=df[df['Price'] < 30]\n",
    "limit_data.head()"
   ]
  },
  {
   "cell_type": "code",
   "execution_count": 33,
   "id": "8b0d3d2e",
   "metadata": {},
   "outputs": [
    {
     "data": {
      "text/plain": [
       "(9338, 13)"
      ]
     },
     "execution_count": 33,
     "metadata": {},
     "output_type": "execute_result"
    }
   ],
   "source": [
    "limit_data.shape"
   ]
  },
  {
   "cell_type": "markdown",
   "id": "d998a015",
   "metadata": {},
   "source": [
    "# As per condition we got data of row 9338\n",
    "\n",
    "b. Reviews colun\n",
    "\n",
    "i. Make suitable plot "
   ]
  },
  {
   "cell_type": "code",
   "execution_count": 34,
   "id": "6d767788",
   "metadata": {},
   "outputs": [
    {
     "data": {
      "text/plain": [
       "<pandas.core.groupby.generic.DataFrameGroupBy object at 0x000001FB5AAF0D90>"
      ]
     },
     "execution_count": 34,
     "metadata": {},
     "output_type": "execute_result"
    }
   ],
   "source": [
    "Category=df.groupby('Category')\n",
    "Category"
   ]
  },
  {
   "cell_type": "code",
   "execution_count": 35,
   "id": "01ec68a0",
   "metadata": {},
   "outputs": [
    {
     "data": {
      "text/plain": [
       "Category\n",
       "EVENTS                     160590\n",
       "BEAUTY                     395133\n",
       "PARENTING                  953609\n",
       "LIBRARIES_AND_DEMO        1033535\n",
       "AUTO_AND_VEHICLES         1163630\n",
       "MEDICAL                   1585618\n",
       "ART_AND_DESIGN            1714372\n",
       "COMICS                    3381945\n",
       "HOUSE_AND_HOME            3976004\n",
       "DATING                    7291039\n",
       "FOOD_AND_DRINK            8883009\n",
       "LIFESTYLE                12871520\n",
       "BUSINESS                 13954086\n",
       "WEATHER                  14604695\n",
       "FINANCE                  17550406\n",
       "BOOKS_AND_REFERENCE      21958660\n",
       "MAPS_AND_NAVIGATION      30659060\n",
       "HEALTH_AND_FITNESS       37893622\n",
       "EDUCATION                39595010\n",
       "NEWS_AND_MAGAZINES       54399899\n",
       "ENTERTAINMENT            59178154\n",
       "TRAVEL_AND_LOCAL         62617772\n",
       "SPORTS                   70829568\n",
       "PERSONALIZATION          89345815\n",
       "VIDEO_PLAYERS           110379692\n",
       "PRODUCTIVITY            114116717\n",
       "SHOPPING                115041033\n",
       "PHOTOGRAPHY             213516607\n",
       "TOOLS                   273184168\n",
       "FAMILY                  410223081\n",
       "SOCIAL                  621241071\n",
       "COMMUNICATION           815461799\n",
       "GAME                   1585419555\n",
       "Name: Reviews, dtype: int32"
      ]
     },
     "execution_count": 35,
     "metadata": {},
     "output_type": "execute_result"
    }
   ],
   "source": [
    "total=Category['Reviews'].sum().sort_values()\n",
    "total"
   ]
  },
  {
   "cell_type": "code",
   "execution_count": 36,
   "id": "03c8f23f",
   "metadata": {
    "scrolled": false
   },
   "outputs": [
    {
     "name": "stdout",
     "output_type": "stream",
     "text": [
      "Category\n",
      "GAME                   1585419555\n",
      "COMMUNICATION           815461799\n",
      "SOCIAL                  621241071\n",
      "FAMILY                  410223081\n",
      "TOOLS                   273184168\n",
      "PHOTOGRAPHY             213516607\n",
      "SHOPPING                115041033\n",
      "PRODUCTIVITY            114116717\n",
      "VIDEO_PLAYERS           110379692\n",
      "PERSONALIZATION          89345815\n",
      "SPORTS                   70829568\n",
      "TRAVEL_AND_LOCAL         62617772\n",
      "ENTERTAINMENT            59178154\n",
      "NEWS_AND_MAGAZINES       54399899\n",
      "EDUCATION                39595010\n",
      "HEALTH_AND_FITNESS       37893622\n",
      "MAPS_AND_NAVIGATION      30659060\n",
      "BOOKS_AND_REFERENCE      21958660\n",
      "FINANCE                  17550406\n",
      "WEATHER                  14604695\n",
      "BUSINESS                 13954086\n",
      "LIFESTYLE                12871520\n",
      "FOOD_AND_DRINK            8883009\n",
      "DATING                    7291039\n",
      "HOUSE_AND_HOME            3976004\n",
      "COMICS                    3381945\n",
      "ART_AND_DESIGN            1714372\n",
      "MEDICAL                   1585618\n",
      "AUTO_AND_VEHICLES         1163630\n",
      "LIBRARIES_AND_DEMO        1033535\n",
      "PARENTING                  953609\n",
      "BEAUTY                     395133\n",
      "EVENTS                     160590\n",
      "Name: Reviews, dtype: int32\n"
     ]
    },
    {
     "data": {
      "image/png": "[encoded data removed]",
      "text/plain": [
       "<Figure size 1080x576 with 1 Axes>"
      ]
     },
     "metadata": {
      "needs_background": "light"
     },
     "output_type": "display_data"
    }
   ],
   "source": [
    "plt.subplots(figsize=(15,8))\n",
    "total.plot(kind='barh', fontsize=14)\n",
    "print(total.sort_values(ascending=False))\n",
    "plt.show()"
   ]
  },
  {
   "cell_type": "markdown",
   "id": "f9b448cc",
   "metadata": {},
   "source": [
    "# Top 5 reviewed Apps by Category\n",
    "1. GAME 1585419555\n",
    "2. Communication 815461799\n",
    "3. Social 621241071\n",
    "4. Family 410223081\n",
    "5. Tools 273184168\n",
    "\n",
    "ii. Limt data on apps with < 1 million reviews"
   ]
  },
  {
   "cell_type": "code",
   "execution_count": 37,
   "id": "e2cd7179",
   "metadata": {},
   "outputs": [
    {
     "data": {
      "text/html": [
       "<div>\n",
       "<style scoped>\n",
       "    .dataframe tbody tr th:only-of-type {\n",
       "        vertical-align: middle;\n",
       "    }\n",
       "\n",
       "    .dataframe tbody tr th {\n",
       "        vertical-align: top;\n",
       "    }\n",
       "\n",
       "    .dataframe thead th {\n",
       "        text-align: right;\n",
       "    }\n",
       "</style>\n",
       "<table border=\"1\" class=\"dataframe\">\n",
       "  <thead>\n",
       "    <tr style=\"text-align: right;\">\n",
       "      <th></th>\n",
       "      <th>App</th>\n",
       "      <th>Category</th>\n",
       "      <th>Rating</th>\n",
       "      <th>Reviews</th>\n",
       "      <th>Size</th>\n",
       "      <th>Installs</th>\n",
       "      <th>Type</th>\n",
       "      <th>Price</th>\n",
       "      <th>Content Rating</th>\n",
       "      <th>Genres</th>\n",
       "      <th>Last Updated</th>\n",
       "      <th>Current Ver</th>\n",
       "      <th>Android Ver</th>\n",
       "    </tr>\n",
       "  </thead>\n",
       "  <tbody>\n",
       "    <tr>\n",
       "      <th>0</th>\n",
       "      <td>Photo Editor &amp; Candy Camera &amp; Grid &amp; ScrapBook</td>\n",
       "      <td>ART_AND_DESIGN</td>\n",
       "      <td>4.1</td>\n",
       "      <td>159</td>\n",
       "      <td>19000</td>\n",
       "      <td>10000</td>\n",
       "      <td>Free</td>\n",
       "      <td>0.0</td>\n",
       "      <td>Everyone</td>\n",
       "      <td>Art &amp; Design</td>\n",
       "      <td>2018-01-07</td>\n",
       "      <td>1.0.0</td>\n",
       "      <td>4.0.3 and up</td>\n",
       "    </tr>\n",
       "    <tr>\n",
       "      <th>1</th>\n",
       "      <td>Coloring book moana</td>\n",
       "      <td>ART_AND_DESIGN</td>\n",
       "      <td>3.9</td>\n",
       "      <td>967</td>\n",
       "      <td>14000</td>\n",
       "      <td>500000</td>\n",
       "      <td>Free</td>\n",
       "      <td>0.0</td>\n",
       "      <td>Everyone</td>\n",
       "      <td>Art &amp; Design;Pretend Play</td>\n",
       "      <td>2018-01-15</td>\n",
       "      <td>2.0.0</td>\n",
       "      <td>4.0.3 and up</td>\n",
       "    </tr>\n",
       "    <tr>\n",
       "      <th>2</th>\n",
       "      <td>U Launcher Lite – FREE Live Cool Themes, Hide ...</td>\n",
       "      <td>ART_AND_DESIGN</td>\n",
       "      <td>4.7</td>\n",
       "      <td>87510</td>\n",
       "      <td>8700</td>\n",
       "      <td>5000000</td>\n",
       "      <td>Free</td>\n",
       "      <td>0.0</td>\n",
       "      <td>Everyone</td>\n",
       "      <td>Art &amp; Design</td>\n",
       "      <td>2018-08-01</td>\n",
       "      <td>1.2.4</td>\n",
       "      <td>4.0.3 and up</td>\n",
       "    </tr>\n",
       "    <tr>\n",
       "      <th>3</th>\n",
       "      <td>Sketch - Draw &amp; Paint</td>\n",
       "      <td>ART_AND_DESIGN</td>\n",
       "      <td>4.5</td>\n",
       "      <td>215644</td>\n",
       "      <td>25000</td>\n",
       "      <td>50000000</td>\n",
       "      <td>Free</td>\n",
       "      <td>0.0</td>\n",
       "      <td>Teen</td>\n",
       "      <td>Art &amp; Design</td>\n",
       "      <td>2018-06-08</td>\n",
       "      <td>Varies with device</td>\n",
       "      <td>4.2 and up</td>\n",
       "    </tr>\n",
       "    <tr>\n",
       "      <th>4</th>\n",
       "      <td>Pixel Draw - Number Art Coloring Book</td>\n",
       "      <td>ART_AND_DESIGN</td>\n",
       "      <td>4.3</td>\n",
       "      <td>967</td>\n",
       "      <td>2800</td>\n",
       "      <td>100000</td>\n",
       "      <td>Free</td>\n",
       "      <td>0.0</td>\n",
       "      <td>Everyone</td>\n",
       "      <td>Art &amp; Design;Creativity</td>\n",
       "      <td>2018-06-20</td>\n",
       "      <td>1.1</td>\n",
       "      <td>4.4 and up</td>\n",
       "    </tr>\n",
       "  </tbody>\n",
       "</table>\n",
       "</div>"
      ],
      "text/plain": [
       "                                                 App        Category  Rating  \\\n",
       "0     Photo Editor & Candy Camera & Grid & ScrapBook  ART_AND_DESIGN     4.1   \n",
       "1                                Coloring book moana  ART_AND_DESIGN     3.9   \n",
       "2  U Launcher Lite – FREE Live Cool Themes, Hide ...  ART_AND_DESIGN     4.7   \n",
       "3                              Sketch - Draw & Paint  ART_AND_DESIGN     4.5   \n",
       "4              Pixel Draw - Number Art Coloring Book  ART_AND_DESIGN     4.3   \n",
       "\n",
       "   Reviews   Size  Installs  Type  Price Content Rating  \\\n",
       "0      159  19000     10000  Free    0.0       Everyone   \n",
       "1      967  14000    500000  Free    0.0       Everyone   \n",
       "2    87510   8700   5000000  Free    0.0       Everyone   \n",
       "3   215644  25000  50000000  Free    0.0           Teen   \n",
       "4      967   2800    100000  Free    0.0       Everyone   \n",
       "\n",
       "                      Genres Last Updated         Current Ver   Android Ver  \n",
       "0               Art & Design   2018-01-07               1.0.0  4.0.3 and up  \n",
       "1  Art & Design;Pretend Play   2018-01-15               2.0.0  4.0.3 and up  \n",
       "2               Art & Design   2018-08-01               1.2.4  4.0.3 and up  \n",
       "3               Art & Design   2018-06-08  Varies with device    4.2 and up  \n",
       "4    Art & Design;Creativity   2018-06-20                 1.1    4.4 and up  "
      ]
     },
     "execution_count": 37,
     "metadata": {},
     "output_type": "execute_result"
    }
   ],
   "source": [
    "limit_data_by_reviews = df[df['Reviews'] < 1000000]\n",
    "limit_data_by_reviews.head()"
   ]
  },
  {
   "cell_type": "code",
   "execution_count": 38,
   "id": "e13458e6",
   "metadata": {
    "scrolled": true
   },
   "outputs": [
    {
     "data": {
      "text/plain": [
       "(8655, 13)"
      ]
     },
     "execution_count": 38,
     "metadata": {},
     "output_type": "execute_result"
    }
   ],
   "source": [
    "limit_data_by_reviews.shape"
   ]
  },
  {
   "cell_type": "markdown",
   "id": "4d18c703",
   "metadata": {},
   "source": [
    "# We found 8655 rows of limited data to app with <1 million reviews\n",
    "\n",
    "c. Installs\n",
    "\n",
    "i. What is the 95 the percentile of the install?"
   ]
  },
  {
   "cell_type": "code",
   "execution_count": 39,
   "id": "1059034e",
   "metadata": {
    "scrolled": true
   },
   "outputs": [
    {
     "data": {
      "text/plain": [
       "100000000.0"
      ]
     },
     "execution_count": 39,
     "metadata": {},
     "output_type": "execute_result"
    }
   ],
   "source": [
    "val = df['Installs'].quantile(0.95)\n",
    "val"
   ]
  },
  {
   "cell_type": "markdown",
   "id": "00fd8a68",
   "metadata": {},
   "source": [
    "# 95th Percentile of the install os 100000000.0\n",
    "\n",
    "ii. Drop records having a value more than the 95th percentile"
   ]
  },
  {
   "cell_type": "code",
   "execution_count": 40,
   "id": "05ecd323",
   "metadata": {
    "scrolled": true
   },
   "outputs": [
    {
     "data": {
      "text/plain": [
       "False"
      ]
     },
     "execution_count": 40,
     "metadata": {},
     "output_type": "execute_result"
    }
   ],
   "source": [
    "#verification\n",
    "x = df['Installs'].quantile() > val\n",
    "x"
   ]
  },
  {
   "cell_type": "markdown",
   "id": "778cc136",
   "metadata": {},
   "source": [
    "# There is no value more than the 95th percentile."
   ]
  },
  {
   "cell_type": "markdown",
   "id": "61360ee5",
   "metadata": {},
   "source": [
    "# Data Analysis to answer business questions\n",
    "1. What is the disribution of rating like ? (use Seaborn) More skewed towards higher/lower values?"
   ]
  },
  {
   "cell_type": "code",
   "execution_count": 41,
   "id": "a0ae52d4",
   "metadata": {},
   "outputs": [
    {
     "name": "stderr",
     "output_type": "stream",
     "text": [
      "C:\\Users\\abhij\\AppData\\Local\\Programs\\Python\\Python310\\lib\\site-packages\\seaborn\\distributions.py:2619: FutureWarning: `distplot` is a deprecated function and will be removed in a future version. Please adapt your code to use either `displot` (a figure-level function with similar flexibility) or `histplot` (an axes-level function for histograms).\n",
      "  warnings.warn(msg, FutureWarning)\n"
     ]
    },
    {
     "data": {
      "text/plain": [
       "<function matplotlib.pyplot.show(close=None, block=None)>"
      ]
     },
     "execution_count": 41,
     "metadata": {},
     "output_type": "execute_result"
    },
    {
     "data": {
      "image/png": "[encoded data removed]",
      "text/plain": [
       "<Figure size 432x288 with 1 Axes>"
      ]
     },
     "metadata": {
      "needs_background": "light"
     },
     "output_type": "display_data"
    }
   ],
   "source": [
    "sns.distplot(df['Rating'])\n",
    "plt.show"
   ]
  },
  {
   "cell_type": "markdown",
   "id": "d1b70a67",
   "metadata": {},
   "source": [
    "# 1. A left Skewed distributon is sometimes called a negatively skewed distribution because it's long tail is on the negative direction on a number line. The mean is also on the left of the peak\n",
    "2. Here you can see three measured position on the plot. SO, you will find that: mean less than \n",
    "    the mode median less than the mode mean less than median here he distribution tells that most\n",
    "    of the rating is in between 4 to 5.\n",
    "b. What is the implication of this on yours analysis?\n",
    "\n",
    "Ans = Real life distributions are usually skewed. if there are too much skewnedd in the data, then\n",
    "many statistical model don't work. So in skewed data, the tail region may act as an outlier for the statistical model and we know that outlier adversely affect the model's performance especially\n",
    "regression-based models so there is a necessity to transform the skewed data to close enough\n",
    "to a gaussin distribution or Normal distribution. This will aloow us to try more number of\n",
    "statistical model. \n",
    "\n",
    "Conclusion : if we have a skewed data then it may harm our results. So, in order to use a skewed\n",
    "    data we have to apply a log transformation over the whole set of values to discover \n",
    "    pattern in the data and make it usable for the statistical model.\n",
    "\n",
    "1. What are the top Content Rating values?\n",
    "    "
   ]
  },
  {
   "cell_type": "code",
   "execution_count": 42,
   "id": "0daad17c",
   "metadata": {
    "scrolled": false
   },
   "outputs": [
    {
     "data": {
      "text/plain": [
       "Everyone           7414\n",
       "Teen               1083\n",
       "Mature 17+          461\n",
       "Everyone 10+        397\n",
       "Adults only 18+       3\n",
       "Unrated               1\n",
       "Name: Content Rating, dtype: int64"
      ]
     },
     "execution_count": 42,
     "metadata": {},
     "output_type": "execute_result"
    }
   ],
   "source": [
    "df['Content Rating'].value_counts()"
   ]
  },
  {
   "cell_type": "markdown",
   "id": "7f098fba",
   "metadata": {},
   "source": [
    "# Top Content Rating values : Content Rating Everyone 7414\n",
    "    Teen 1083\n",
    "    Mature 17+461\n",
    "    Everyoneryone 10+397\n",
    "    Adults Only 18+3\n",
    "    Unrated 1\n",
    "a. Are there any values with very few records?\n",
    "\n",
    "Yes, 'Unrated' Content Rating has value 1 and Adults only 18+-->3"
   ]
  },
  {
   "cell_type": "code",
   "execution_count": 43,
   "id": "82e4cdf5",
   "metadata": {},
   "outputs": [
    {
     "name": "stderr",
     "output_type": "stream",
     "text": [
      "C:\\Users\\abhij\\AppData\\Local\\Programs\\Python\\Python310\\lib\\site-packages\\pandas\\core\\frame.py:4906: SettingWithCopyWarning: \n",
      "A value is trying to be set on a copy of a slice from a DataFrame\n",
      "\n",
      "See the caveats in the documentation: https://pandas.pydata.org/pandas-docs/stable/user_guide/indexing.html#returning-a-view-versus-a-copy\n",
      "  return super().drop(\n"
     ]
    },
    {
     "data": {
      "text/plain": [
       "Everyone        7414\n",
       "Teen            1083\n",
       "Mature 17+       461\n",
       "Everyone 10+     397\n",
       "Name: Content Rating, dtype: int64"
      ]
     },
     "execution_count": 43,
     "metadata": {},
     "output_type": "execute_result"
    }
   ],
   "source": [
    "adult_rating = df[df['Content Rating'] == 'Adults only 18+'].index.to_list()\n",
    "unrated = df[df['Content Rating'] == 'Unrated'].index.to_list()\n",
    "df.drop(adult_rating,inplace=True)\n",
    "df.drop(unrated,inplace=True)\n",
    "df['Content Rating'].value_counts()"
   ]
  },
  {
   "cell_type": "markdown",
   "id": "c73b0348",
   "metadata": {},
   "source": [
    "# Effect of size on rating\n",
    "a. Make a jointplot to understant the effect of size on rating"
   ]
  },
  {
   "cell_type": "code",
   "execution_count": 44,
   "id": "9786d3ac",
   "metadata": {
    "scrolled": true
   },
   "outputs": [
    {
     "data": {
      "image/png": "[encoded data removed]",
      "text/plain": [
       "<Figure size 432x432 with 3 Axes>"
      ]
     },
     "metadata": {
      "needs_background": "light"
     },
     "output_type": "display_data"
    }
   ],
   "source": [
    "sns.jointplot(x=df['Size'], y=df['Rating'], data=df, kind='hex')\n",
    "plt.show()"
   ]
  },
  {
   "cell_type": "markdown",
   "id": "43b0153c",
   "metadata": {},
   "source": [
    "# b. DO you see any patterns?\n",
    "c. How do you explain the pattern?\n",
    "\n",
    "Ans = We observed that the maximum data oint gather in between Rating 4.0-4.5 and size 0-40000 (40 mb). Meaning is that the \n",
    "application size which is in between 0-40000(40mb) get good rating on play store\n",
    "Effect of price on rating a. Make a jointplot (with regression line)"
   ]
  },
  {
   "cell_type": "code",
   "execution_count": 45,
   "id": "21c34e8b",
   "metadata": {},
   "outputs": [
    {
     "data": {
      "text/plain": [
       "<seaborn.axisgrid.JointGrid at 0x1fb5d0ef190>"
      ]
     },
     "execution_count": 45,
     "metadata": {},
     "output_type": "execute_result"
    },
    {
     "data": {
      "image/png": "[encoded data removed]",
      "text/plain": [
       "<Figure size 432x432 with 3 Axes>"
      ]
     },
     "metadata": {
      "needs_background": "light"
     },
     "output_type": "display_data"
    }
   ],
   "source": [
    "sns.jointplot(x='Rating', y='Price', data=df)"
   ]
  },
  {
   "cell_type": "markdown",
   "id": "c7b05ee2",
   "metadata": {},
   "source": [
    "# b. What pattern do you see?\n",
    "\n",
    "c.How do you eplain the pattern?\n",
    "\n",
    "increasing the price, Rating Increases\n",
    "\n",
    "d.Replot the data, this time with only records with price > 0"
   ]
  },
  {
   "cell_type": "code",
   "execution_count": 46,
   "id": "6955dc08",
   "metadata": {},
   "outputs": [
    {
     "data": {
      "text/plain": [
       "<seaborn.axisgrid.JointGrid at 0x1fb60aab610>"
      ]
     },
     "execution_count": 46,
     "metadata": {},
     "output_type": "execute_result"
    },
    {
     "data": {
      "image/png": "[encoded data removed]",
      "text/plain": [
       "<Figure size 432x432 with 3 Axes>"
      ]
     },
     "metadata": {
      "needs_background": "light"
     },
     "output_type": "display_data"
    }
   ],
   "source": [
    "Price_greaterthan_zero = df[df['Price'] > 0]\n",
    "sns.jointplot(x = \"Price\", y=\"Rating\", data = Price_greaterthan_zero, kind = \"reg\")"
   ]
  },
  {
   "cell_type": "code",
   "execution_count": 47,
   "id": "13d6512a",
   "metadata": {},
   "outputs": [
    {
     "data": {
      "text/plain": [
       "<seaborn.axisgrid.FacetGrid at 0x1fb5ce820b0>"
      ]
     },
     "execution_count": 47,
     "metadata": {},
     "output_type": "execute_result"
    },
    {
     "data": {
      "image/png": "[encoded data removed]",
      "text/plain": [
       "<Figure size 466.875x360 with 1 Axes>"
      ]
     },
     "metadata": {
      "needs_background": "light"
     },
     "output_type": "display_data"
    }
   ],
   "source": [
    "sns.lmplot(x='Price', y='Rating', hue='Content Rating', data=df)"
   ]
  },
  {
   "cell_type": "markdown",
   "id": "589de8ed",
   "metadata": {},
   "source": [
    "# Mature and Teen are more posively co-related in content rating than 10+ and everyone\n",
    "     * Look at all the numeric interactions together-"
   ]
  },
  {
   "cell_type": "markdown",
   "id": "731870da",
   "metadata": {},
   "source": [
    "# a. Make a pairplort with the columns - 'Reviews', 'Size', 'Rating', 'Price'"
   ]
  },
  {
   "cell_type": "code",
   "execution_count": 48,
   "id": "e5d9334e",
   "metadata": {
    "scrolled": true
   },
   "outputs": [
    {
     "data": {
      "text/plain": [
       "<seaborn.axisgrid.PairGrid at 0x1fb60ac6a70>"
      ]
     },
     "execution_count": 48,
     "metadata": {},
     "output_type": "execute_result"
    },
    {
     "data": {
      "image/png": "[encoded data removed]",
      "text/plain": [
       "<Figure size 720x720 with 20 Axes>"
      ]
     },
     "metadata": {
      "needs_background": "light"
     },
     "output_type": "display_data"
    }
   ],
   "source": [
    "sns.pairplot(data=df, vars=['Rating', 'Size', 'Reviews', 'Price'])"
   ]
  },
  {
   "cell_type": "code",
   "execution_count": 49,
   "id": "b66c531d",
   "metadata": {},
   "outputs": [
    {
     "ename": "SyntaxError",
     "evalue": "invalid syntax (Temp/ipykernel_5812/3208270438.py, line 1)",
     "output_type": "error",
     "traceback": [
      "\u001b[1;36m  File \u001b[1;32m\"C:\\Users\\abhij\\AppData\\Local\\Temp/ipykernel_5812/3208270438.py\"\u001b[1;36m, line \u001b[1;32m1\u001b[0m\n\u001b[1;33m    This is the basic exploratory analysis to look for any evident patterns or relationships between the features.\u001b[0m\n\u001b[1;37m                ^\u001b[0m\n\u001b[1;31mSyntaxError\u001b[0m\u001b[1;31m:\u001b[0m invalid syntax\n"
     ]
    }
   ],
   "source": [
    "This is the basic exploratory analysis to look for any evident patterns or relationships between the features."
   ]
  },
  {
   "cell_type": "markdown",
   "id": "93a08062",
   "metadata": {},
   "source": [
    "# Rating vs. Content rating\n",
    "1. Make a bar plot displaying the rating for each content rating"
   ]
  },
  {
   "cell_type": "code",
   "execution_count": 50,
   "id": "197ca16a",
   "metadata": {},
   "outputs": [
    {
     "data": {
      "image/png": "[encoded data removed]",
      "text/plain": [
       "<Figure size 432x288 with 1 Axes>"
      ]
     },
     "metadata": {
      "needs_background": "light"
     },
     "output_type": "display_data"
    }
   ],
   "source": [
    "a= df['Rating'].groupby(df['Content Rating']).median().plot (kind = 'bar', color='r')\n",
    "a.set(xlabel = 'Rating of COntent', ylabel = 'Average of Ratings')\n",
    "plt.show()"
   ]
  },
  {
   "cell_type": "markdown",
   "id": "71b530e4",
   "metadata": {},
   "source": [
    "# b. Which metric would you use? mean? Median? Some other quantile?\n",
    "\n",
    "c. Choose the right metric and plot"
   ]
  },
  {
   "cell_type": "code",
   "execution_count": 51,
   "id": "e45e5810",
   "metadata": {},
   "outputs": [
    {
     "data": {
      "image/png": "[encoded data removed]",
      "text/plain": [
       "<Figure size 432x288 with 1 Axes>"
      ]
     },
     "metadata": {
      "needs_background": "light"
     },
     "output_type": "display_data"
    }
   ],
   "source": [
    "df.groupby(['Content Rating'])['Rating'].count().plot.bar(color='r')\n",
    "plt.ylabel('Rating')\n",
    "plt.show()"
   ]
  },
  {
   "cell_type": "markdown",
   "id": "4e94a304",
   "metadata": {},
   "source": [
    "# Content Rating vs. Size vs. Rating - 3 Variables at a time\n",
    "a. Create 5 Buckets (20% records in each) based on size"
   ]
  },
  {
   "cell_type": "code",
   "execution_count": 52,
   "id": "b78f95cd",
   "metadata": {},
   "outputs": [
    {
     "data": {
      "text/plain": [
       "<seaborn.axisgrid.FacetGrid at 0x1fb67e8e260>"
      ]
     },
     "execution_count": 52,
     "metadata": {},
     "output_type": "execute_result"
    },
    {
     "data": {
      "image/png": "[encoded data removed]",
      "text/plain": [
       "<Figure size 360x360 with 1 Axes>"
      ]
     },
     "metadata": {
      "needs_background": "light"
     },
     "output_type": "display_data"
    }
   ],
   "source": [
    "#Checking skewness\n",
    "sns.displot(df[\"Size\"], bins=5)"
   ]
  },
  {
   "cell_type": "code",
   "execution_count": 53,
   "id": "5aeee087",
   "metadata": {},
   "outputs": [
    {
     "name": "stderr",
     "output_type": "stream",
     "text": [
      "C:\\Users\\abhij\\AppData\\Local\\Temp/ipykernel_5812/3244253955.py:2: SettingWithCopyWarning: \n",
      "A value is trying to be set on a copy of a slice from a DataFrame.\n",
      "Try using .loc[row_indexer,col_indexer] = value instead\n",
      "\n",
      "See the caveats in the documentation: https://pandas.pydata.org/pandas-docs/stable/user_guide/indexing.html#returning-a-view-versus-a-copy\n",
      "  df['Size_Buckets'] = pd.cut(df['Size'], bins, labels=['Very Low', 'Low', 'Medium', 'High', 'Very High'])\n"
     ]
    },
    {
     "data": {
      "text/html": [
       "<div>\n",
       "<style scoped>\n",
       "    .dataframe tbody tr th:only-of-type {\n",
       "        vertical-align: middle;\n",
       "    }\n",
       "\n",
       "    .dataframe tbody tr th {\n",
       "        vertical-align: top;\n",
       "    }\n",
       "\n",
       "    .dataframe thead th {\n",
       "        text-align: right;\n",
       "    }\n",
       "</style>\n",
       "<table border=\"1\" class=\"dataframe\">\n",
       "  <thead>\n",
       "    <tr style=\"text-align: right;\">\n",
       "      <th>Content Rating</th>\n",
       "      <th>Everyone</th>\n",
       "      <th>Everyone 10+</th>\n",
       "      <th>Mature 17+</th>\n",
       "      <th>Teen</th>\n",
       "    </tr>\n",
       "    <tr>\n",
       "      <th>Size_Buckets</th>\n",
       "      <th></th>\n",
       "      <th></th>\n",
       "      <th></th>\n",
       "      <th></th>\n",
       "    </tr>\n",
       "  </thead>\n",
       "  <tbody>\n",
       "    <tr>\n",
       "      <th>Very Low</th>\n",
       "      <td>4.116056</td>\n",
       "      <td>4.188889</td>\n",
       "      <td>3.951429</td>\n",
       "      <td>4.224490</td>\n",
       "    </tr>\n",
       "    <tr>\n",
       "      <th>Low</th>\n",
       "      <td>4.161317</td>\n",
       "      <td>4.207143</td>\n",
       "      <td>4.129592</td>\n",
       "      <td>4.209655</td>\n",
       "    </tr>\n",
       "    <tr>\n",
       "      <th>Medium</th>\n",
       "      <td>4.242463</td>\n",
       "      <td>4.262602</td>\n",
       "      <td>4.091975</td>\n",
       "      <td>4.205630</td>\n",
       "    </tr>\n",
       "    <tr>\n",
       "      <th>High</th>\n",
       "      <td>4.179122</td>\n",
       "      <td>4.209375</td>\n",
       "      <td>4.168333</td>\n",
       "      <td>4.213158</td>\n",
       "    </tr>\n",
       "    <tr>\n",
       "      <th>Very High</th>\n",
       "      <td>4.208134</td>\n",
       "      <td>4.287805</td>\n",
       "      <td>4.197170</td>\n",
       "      <td>4.279603</td>\n",
       "    </tr>\n",
       "  </tbody>\n",
       "</table>\n",
       "</div>"
      ],
      "text/plain": [
       "Content Rating  Everyone  Everyone 10+  Mature 17+      Teen\n",
       "Size_Buckets                                                \n",
       "Very Low        4.116056      4.188889    3.951429  4.224490\n",
       "Low             4.161317      4.207143    4.129592  4.209655\n",
       "Medium          4.242463      4.262602    4.091975  4.205630\n",
       "High            4.179122      4.209375    4.168333  4.213158\n",
       "Very High       4.208134      4.287805    4.197170  4.279603"
      ]
     },
     "execution_count": 53,
     "metadata": {},
     "output_type": "execute_result"
    }
   ],
   "source": [
    "bins= [0, 4600, 12000, 21516, 32000, 100000]\n",
    "df['Size_Buckets'] = pd.cut(df['Size'], bins, labels=['Very Low', 'Low', 'Medium', 'High', 'Very High'])\n",
    "pd.pivot_table(df, values= 'Rating', index='Size_Buckets', columns='Content Rating')"
   ]
  },
  {
   "cell_type": "markdown",
   "id": "b8742766",
   "metadata": {},
   "source": [
    "# b. By Content Rating vs. Size buckets, get the rating (20th percentile) for each combination"
   ]
  },
  {
   "cell_type": "code",
   "execution_count": 54,
   "id": "c4c95d14",
   "metadata": {},
   "outputs": [
    {
     "data": {
      "text/plain": [
       "0.2     5100.0\n",
       "0.4    14000.0\n",
       "0.6    21516.0\n",
       "0.8    34000.0\n",
       "Name: Size, dtype: float64"
      ]
     },
     "execution_count": 54,
     "metadata": {},
     "output_type": "execute_result"
    }
   ],
   "source": [
    "df.Size.quantile([0.2, 0.4, 0.6, 0.8])"
   ]
  },
  {
   "cell_type": "code",
   "execution_count": 55,
   "id": "1b205db1",
   "metadata": {},
   "outputs": [
    {
     "data": {
      "text/plain": [
       "0.2    3.9\n",
       "0.4    4.2\n",
       "0.6    4.4\n",
       "0.8    4.6\n",
       "Name: Rating, dtype: float64"
      ]
     },
     "execution_count": 55,
     "metadata": {},
     "output_type": "execute_result"
    }
   ],
   "source": [
    "df.Rating.quantile([0.2, 0.4, 0.6, 0.8])"
   ]
  },
  {
   "cell_type": "markdown",
   "id": "563871a0",
   "metadata": {},
   "source": [
    "# c. Make a heatmap of this\n",
    "\n",
    "i. Annotated\n",
    "\n",
    "ii. Green color map"
   ]
  },
  {
   "cell_type": "code",
   "execution_count": 56,
   "id": "c637c4d9",
   "metadata": {},
   "outputs": [
    {
     "data": {
      "text/html": [
       "<div>\n",
       "<style scoped>\n",
       "    .dataframe tbody tr th:only-of-type {\n",
       "        vertical-align: middle;\n",
       "    }\n",
       "\n",
       "    .dataframe tbody tr th {\n",
       "        vertical-align: top;\n",
       "    }\n",
       "\n",
       "    .dataframe thead th {\n",
       "        text-align: right;\n",
       "    }\n",
       "</style>\n",
       "<table border=\"1\" class=\"dataframe\">\n",
       "  <thead>\n",
       "    <tr style=\"text-align: right;\">\n",
       "      <th>Content Rating</th>\n",
       "      <th>Everyone</th>\n",
       "      <th>Everyone 10+</th>\n",
       "      <th>Mature 17+</th>\n",
       "      <th>Teen</th>\n",
       "    </tr>\n",
       "    <tr>\n",
       "      <th>Size_Buckets</th>\n",
       "      <th></th>\n",
       "      <th></th>\n",
       "      <th></th>\n",
       "      <th></th>\n",
       "    </tr>\n",
       "  </thead>\n",
       "  <tbody>\n",
       "    <tr>\n",
       "      <th>Very Low</th>\n",
       "      <td>4.116056</td>\n",
       "      <td>4.188889</td>\n",
       "      <td>3.951429</td>\n",
       "      <td>4.224490</td>\n",
       "    </tr>\n",
       "    <tr>\n",
       "      <th>Low</th>\n",
       "      <td>4.161317</td>\n",
       "      <td>4.207143</td>\n",
       "      <td>4.129592</td>\n",
       "      <td>4.209655</td>\n",
       "    </tr>\n",
       "    <tr>\n",
       "      <th>Medium</th>\n",
       "      <td>4.242463</td>\n",
       "      <td>4.262602</td>\n",
       "      <td>4.091975</td>\n",
       "      <td>4.205630</td>\n",
       "    </tr>\n",
       "    <tr>\n",
       "      <th>High</th>\n",
       "      <td>4.179122</td>\n",
       "      <td>4.209375</td>\n",
       "      <td>4.168333</td>\n",
       "      <td>4.213158</td>\n",
       "    </tr>\n",
       "    <tr>\n",
       "      <th>Very High</th>\n",
       "      <td>4.208134</td>\n",
       "      <td>4.287805</td>\n",
       "      <td>4.197170</td>\n",
       "      <td>4.279603</td>\n",
       "    </tr>\n",
       "  </tbody>\n",
       "</table>\n",
       "</div>"
      ],
      "text/plain": [
       "Content Rating  Everyone  Everyone 10+  Mature 17+      Teen\n",
       "Size_Buckets                                                \n",
       "Very Low        4.116056      4.188889    3.951429  4.224490\n",
       "Low             4.161317      4.207143    4.129592  4.209655\n",
       "Medium          4.242463      4.262602    4.091975  4.205630\n",
       "High            4.179122      4.209375    4.168333  4.213158\n",
       "Very High       4.208134      4.287805    4.197170  4.279603"
      ]
     },
     "execution_count": 56,
     "metadata": {},
     "output_type": "execute_result"
    }
   ],
   "source": [
    "Size_Buckets = pd.pivot_table(df, values='Rating', index='Size_Buckets', columns='Content Rating')\n",
    "aggfunc=lambda x:np.quantile(x,0.2)\n",
    "Size_Buckets"
   ]
  },
  {
   "cell_type": "code",
   "execution_count": 57,
   "id": "d4af21e8",
   "metadata": {},
   "outputs": [
    {
     "data": {
      "image/png": "[encoded data removed]",
      "text/plain": [
       "<Figure size 432x288 with 2 Axes>"
      ]
     },
     "metadata": {
      "needs_background": "light"
     },
     "output_type": "display_data"
    }
   ],
   "source": [
    "sns.heatmap(Size_Buckets, cmap='RdYlGn', annot = True)\n",
    "plt.show()"
   ]
  },
  {
   "cell_type": "code",
   "execution_count": 58,
   "id": "354e634f",
   "metadata": {},
   "outputs": [
    {
     "data": {
      "image/png": "[encoded data removed]",
      "text/plain": [
       "<Figure size 1440x576 with 2 Axes>"
      ]
     },
     "metadata": {
      "needs_background": "light"
     },
     "output_type": "display_data"
    }
   ],
   "source": [
    "fig=plt.figure(figsize=(20,8))\n",
    "\n",
    "sns.heatmap(Size_Buckets, cmap='RdYlGn', annot=True)\n",
    "plt.show()"
   ]
  },
  {
   "cell_type": "code",
   "execution_count": 59,
   "id": "876433f0",
   "metadata": {},
   "outputs": [
    {
     "data": {
      "image/png": "[encoded data removed]",
      "text/plain": [
       "<Figure size 1080x576 with 2 Axes>"
      ]
     },
     "metadata": {
      "needs_background": "light"
     },
     "output_type": "display_data"
    }
   ],
   "source": [
    "fig=plt.figure(figsize=(15,8))\n",
    "\n",
    "sns.heatmap(Size_Buckets, cmap='coolwarm', annot=True)\n",
    "plt.show()"
   ]
  },
  {
   "cell_type": "code",
   "execution_count": 60,
   "id": "ad332267",
   "metadata": {},
   "outputs": [
    {
     "data": {
      "image/png": "[encoded data removed]",
      "text/plain": [
       "<Figure size 1080x576 with 2 Axes>"
      ]
     },
     "metadata": {
      "needs_background": "light"
     },
     "output_type": "display_data"
    }
   ],
   "source": [
    "fig=plt.figure(figsize=(15,8))\n",
    "\n",
    "sns.heatmap(Size_Buckets, cmap='viridis', annot=True)\n",
    "plt.show()"
   ]
  },
  {
   "cell_type": "code",
   "execution_count": 61,
   "id": "1fcb6b78",
   "metadata": {},
   "outputs": [
    {
     "data": {
      "image/png": "[encoded data removed]",
      "text/plain": [
       "<Figure size 1080x576 with 2 Axes>"
      ]
     },
     "metadata": {
      "needs_background": "light"
     },
     "output_type": "display_data"
    }
   ],
   "source": [
    "fig=plt.figure(figsize=(15,8))\n",
    "\n",
    "sns.heatmap(Size_Buckets, cmap='RdYlGn', annot=True)\n",
    "plt.show()"
   ]
  },
  {
   "cell_type": "code",
   "execution_count": null,
   "id": "df0993ba",
   "metadata": {},
   "outputs": [],
   "source": []
  }
 ],
 "metadata": {
  "kernelspec": {
   "display_name": "Python 3 (ipykernel)",
   "language": "python",
   "name": "python3"
  },
  "language_info": {
   "codemirror_mode": {
    "name": "ipython",
    "version": 3
   },
   "file_extension": ".py",
   "mimetype": "text/x-python",
   "name": "python",
   "nbconvert_exporter": "python",
   "pygments_lexer": "ipython3",
   "version": "3.10.7"
  }
 },
 "nbformat": 4,
 "nbformat_minor": 5
}
